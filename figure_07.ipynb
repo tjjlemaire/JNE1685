{
 "cells": [
  {
   "cell_type": "markdown",
   "metadata": {},
   "source": [
    "# Figure 7 - Cell-type-specific behavior maps\n",
    "\n",
    "Create (DC x amplitude) behavior maps of RS and LTS neurons at various pulse repetition frequencies, along with characteristic Q-V traces, from SONIC model predictions."
   ]
  },
  {
   "cell_type": "markdown",
   "metadata": {},
   "source": [
    "### Imports"
   ]
  },
  {
   "cell_type": "code",
   "execution_count": 12,
   "metadata": {},
   "outputs": [],
   "source": [
    "import os\n",
    "import logging\n",
    "import numpy as np\n",
    "import matplotlib.pyplot as plt\n",
    "from PySONIC.utils import logger\n",
    "from PySONIC.neurons import getPointNeuron\n",
    "from PySONIC.plt import cm2inch, FiringRateMap\n",
    "from utils import subdirectory, codes, saveFigsAsPDF\n",
    "\n",
    "logger.setLevel(logging.INFO)"
   ]
  },
  {
   "cell_type": "markdown",
   "metadata": {},
   "source": [
    "### Functions"
   ]
  },
  {
   "cell_type": "code",
   "execution_count": 13,
   "metadata": {},
   "outputs": [],
   "source": [
    "def plotMapAndTraces(subdir, pneuron, a, Fdrive, tstim, amps, PRF, DCs, cov,\n",
    "                     FRbounds=None, thresholds=True, insets=None, tbounds=None,\n",
    "                     Vbounds=None, map_figsize=None, trace_figsize=None, fs=8, lw=1):\n",
    "\n",
    "    mapcodes = codes(a, pneuron, Fdrive, PRF, tstim)\n",
    "    subsubdir = os.path.join(subdir, ' '.join(mapcodes))\n",
    "    figs = {}\n",
    "\n",
    "    # FR map\n",
    "    frmap = FiringRateMap(subsubdir, pneuron, a, 1., Fdrive, tstim, PRF, amps, DCs)\n",
    "    frmap.run(mpi=True)\n",
    "    mapfig = frmap.render(\n",
    "        zbounds=FRbounds, thresholds=thresholds, figsize=map_figsize, fs=fs, insets=insets)\n",
    "    figs['map_' + '_'.join(mapcodes)] = mapfig\n",
    "\n",
    "    # Related inset traces\n",
    "    for inset in insets:\n",
    "        DC, Adrive = inset[:2]\n",
    "        tracefig = frmap.plotTimeseries(DC, Adrive, fs=fs, patches='none')\n",
    "        tracefig.set_size_inches(trace_figsize)\n",
    "        if tbounds is not None:\n",
    "            tracefig.axes[0].set_xlim(tbounds)\n",
    "        if Vbounds is not None:\n",
    "            tracefig.axes[0].set_ylim(Vbounds)\n",
    "        figcode = 'VQ trace {} {:.1f}kPa {:.0f}%DC'.format(pneuron.name, Adrive, DC)\n",
    "        figs[figcode] = tracefig\n",
    "\n",
    "    return figs"
   ]
  },
  {
   "cell_type": "markdown",
   "metadata": {},
   "source": [
    "### Data sub-directory"
   ]
  },
  {
   "cell_type": "code",
   "execution_count": 14,
   "metadata": {},
   "outputs": [],
   "source": [
    "subdir = subdirectory('maps')"
   ]
  },
  {
   "cell_type": "markdown",
   "metadata": {},
   "source": [
    "### Plot parameters"
   ]
  },
  {
   "cell_type": "code",
   "execution_count": 15,
   "metadata": {},
   "outputs": [],
   "source": [
    "figindex = 7\n",
    "pltargs = {\n",
    "    'map_figsize': cm2inch(16, 11.6),\n",
    "    'trace_figsize': cm2inch(14, 6),\n",
    "    'fs': 14,\n",
    "    'lw': 2,\n",
    "    'FRbounds': (1e0, 1e3),  # Hz\n",
    "    'tbounds': (0, 240.),  # s\n",
    "    'Vbounds': (-150, 50),  # mV\n",
    "    'thresholds': False\n",
    "}\n",
    "figs = {}"
   ]
  },
  {
   "cell_type": "markdown",
   "metadata": {},
   "source": [
    "### Simulation parameters"
   ]
  },
  {
   "cell_type": "code",
   "execution_count": 16,
   "metadata": {},
   "outputs": [],
   "source": [
    "a = 32e-9       # m\n",
    "Fdrive = 500e3  # Hz\n",
    "tstim = 1.0     # s\n",
    "cov = 1.0\n",
    "amps = np.logspace(np.log10(10), np.log10(600), num=30) * 1e3  # Pa\n",
    "DCs = np.arange(1, 101) * 1e-2\n",
    "sim_args = lambda pneuron, PRF: [subdir, pneuron, a, Fdrive, tstim, amps, PRF, DCs, cov]"
   ]
  },
  {
   "cell_type": "markdown",
   "metadata": {},
   "source": [
    "## 10 Hz PRF"
   ]
  },
  {
   "cell_type": "code",
   "execution_count": 17,
   "metadata": {},
   "outputs": [],
   "source": [
    "subindex = 'a'\n",
    "PRF = 1e1  # Hz"
   ]
  },
  {
   "cell_type": "markdown",
   "metadata": {},
   "source": [
    "### RS neuron"
   ]
  },
  {
   "cell_type": "code",
   "execution_count": 18,
   "metadata": {},
   "outputs": [
    {
     "name": "stderr",
     "output_type": "stream",
     "text": [
      " 28/04/2020 15:46:04: Firing rate range: 2 - 799 Hz\n",
      " 28/04/2020 15:46:04: File \"ASTIM_RS_PW_32nm_f_500kHz_A_126.96kPa_tstim_1s_PRF_10.00Hz_DC_28.0%_sonic.pkl\" already present in directory \"C:\\Users\\lemaire\\Documents\\SONIC paper data\\maps\\RS 32nm 500kHz PRF10Hz 1s\" -> preserving\n",
      " 28/04/2020 15:46:04: Loading data from \"ASTIM_RS_PW_32nm_f_500kHz_A_126.96kPa_tstim_1s_PRF_10.00Hz_DC_28.0%_sonic.pkl\"\n"
     ]
    },
    {
     "ename": "ValueError",
     "evalue": "Unknown model type:ASTIM",
     "output_type": "error",
     "traceback": [
      "\u001b[1;31m---------------------------------------------------------------------------\u001b[0m",
      "\u001b[1;31mKeyError\u001b[0m                                  Traceback (most recent call last)",
      "\u001b[1;32mc:\\users\\lemaire\\documents\\repositories\\pysonic\\PySONIC\\core\\__init__.py\u001b[0m in \u001b[0;36mgetModel\u001b[1;34m(meta)\u001b[0m\n\u001b[0;32m     47\u001b[0m     \u001b[1;32mtry\u001b[0m\u001b[1;33m:\u001b[0m\u001b[1;33m\u001b[0m\u001b[1;33m\u001b[0m\u001b[0m\n\u001b[1;32m---> 48\u001b[1;33m         \u001b[1;32mreturn\u001b[0m \u001b[0mmodels_dict\u001b[0m\u001b[1;33m[\u001b[0m\u001b[0msimkey\u001b[0m\u001b[1;33m]\u001b[0m\u001b[1;33m.\u001b[0m\u001b[0minitFromMeta\u001b[0m\u001b[1;33m(\u001b[0m\u001b[0mmeta\u001b[0m\u001b[1;33m[\u001b[0m\u001b[1;34m'model'\u001b[0m\u001b[1;33m]\u001b[0m\u001b[1;33m)\u001b[0m\u001b[1;33m\u001b[0m\u001b[1;33m\u001b[0m\u001b[0m\n\u001b[0m\u001b[0;32m     49\u001b[0m     \u001b[1;32mexcept\u001b[0m \u001b[0mKeyError\u001b[0m\u001b[1;33m:\u001b[0m\u001b[1;33m\u001b[0m\u001b[1;33m\u001b[0m\u001b[0m\n",
      "\u001b[1;31mKeyError\u001b[0m: 'model'",
      "\nDuring handling of the above exception, another exception occurred:\n",
      "\u001b[1;31mValueError\u001b[0m                                Traceback (most recent call last)",
      "\u001b[1;32m<ipython-input-18-8077d3a8008c>\u001b[0m in \u001b[0;36m<module>\u001b[1;34m\u001b[0m\n\u001b[0;32m      1\u001b[0m \u001b[0mpneuron\u001b[0m \u001b[1;33m=\u001b[0m \u001b[0mgetPointNeuron\u001b[0m\u001b[1;33m(\u001b[0m\u001b[1;34m'RS'\u001b[0m\u001b[1;33m)\u001b[0m\u001b[1;33m\u001b[0m\u001b[1;33m\u001b[0m\u001b[0m\n\u001b[0;32m      2\u001b[0m \u001b[0minsets\u001b[0m \u001b[1;33m=\u001b[0m \u001b[1;33m[\u001b[0m\u001b[1;33m(\u001b[0m\u001b[1;36m28.\u001b[0m\u001b[1;33m,\u001b[0m \u001b[1;36m126.96\u001b[0m\u001b[1;33m,\u001b[0m \u001b[1;34m'i'\u001b[0m\u001b[1;33m,\u001b[0m \u001b[1;34m'ul'\u001b[0m\u001b[1;33m)\u001b[0m\u001b[1;33m,\u001b[0m \u001b[1;33m(\u001b[0m\u001b[1;36m37.\u001b[0m\u001b[1;33m,\u001b[0m \u001b[1;36m168.39\u001b[0m\u001b[1;33m,\u001b[0m \u001b[1;34m'ii'\u001b[0m\u001b[1;33m,\u001b[0m \u001b[1;34m'ur'\u001b[0m\u001b[1;33m)\u001b[0m\u001b[1;33m]\u001b[0m\u001b[1;33m\u001b[0m\u001b[1;33m\u001b[0m\u001b[0m\n\u001b[1;32m----> 3\u001b[1;33m \u001b[0mout\u001b[0m \u001b[1;33m=\u001b[0m \u001b[0mplotMapAndTraces\u001b[0m\u001b[1;33m(\u001b[0m\u001b[1;33m*\u001b[0m\u001b[0msim_args\u001b[0m\u001b[1;33m(\u001b[0m\u001b[0mpneuron\u001b[0m\u001b[1;33m,\u001b[0m \u001b[0mPRF\u001b[0m\u001b[1;33m)\u001b[0m\u001b[1;33m,\u001b[0m \u001b[0minsets\u001b[0m\u001b[1;33m=\u001b[0m\u001b[0minsets\u001b[0m\u001b[1;33m,\u001b[0m \u001b[1;33m**\u001b[0m\u001b[0mpltargs\u001b[0m\u001b[1;33m)\u001b[0m\u001b[1;33m\u001b[0m\u001b[1;33m\u001b[0m\u001b[0m\n\u001b[0m\u001b[0;32m      4\u001b[0m \u001b[0mfigs\u001b[0m\u001b[1;33m.\u001b[0m\u001b[0mupdate\u001b[0m\u001b[1;33m(\u001b[0m\u001b[1;33m{\u001b[0m\u001b[1;34mf'{subindex}_{k}'\u001b[0m\u001b[1;33m:\u001b[0m \u001b[0mv\u001b[0m \u001b[1;32mfor\u001b[0m \u001b[0mk\u001b[0m\u001b[1;33m,\u001b[0m \u001b[0mv\u001b[0m \u001b[1;32min\u001b[0m \u001b[0mout\u001b[0m\u001b[1;33m.\u001b[0m\u001b[0mitems\u001b[0m\u001b[1;33m(\u001b[0m\u001b[1;33m)\u001b[0m\u001b[1;33m}\u001b[0m\u001b[1;33m)\u001b[0m\u001b[1;33m\u001b[0m\u001b[1;33m\u001b[0m\u001b[0m\n",
      "\u001b[1;32m<ipython-input-13-fd3befc32037>\u001b[0m in \u001b[0;36mplotMapAndTraces\u001b[1;34m(subdir, pneuron, a, Fdrive, tstim, amps, PRF, DCs, cov, FRbounds, thresholds, insets, tbounds, Vbounds, map_figsize, trace_figsize, fs, lw)\u001b[0m\n\u001b[0;32m     17\u001b[0m     \u001b[1;32mfor\u001b[0m \u001b[0minset\u001b[0m \u001b[1;32min\u001b[0m \u001b[0minsets\u001b[0m\u001b[1;33m:\u001b[0m\u001b[1;33m\u001b[0m\u001b[1;33m\u001b[0m\u001b[0m\n\u001b[0;32m     18\u001b[0m         \u001b[0mDC\u001b[0m\u001b[1;33m,\u001b[0m \u001b[0mAdrive\u001b[0m \u001b[1;33m=\u001b[0m \u001b[0minset\u001b[0m\u001b[1;33m[\u001b[0m\u001b[1;33m:\u001b[0m\u001b[1;36m2\u001b[0m\u001b[1;33m]\u001b[0m\u001b[1;33m\u001b[0m\u001b[1;33m\u001b[0m\u001b[0m\n\u001b[1;32m---> 19\u001b[1;33m         \u001b[0mtracefig\u001b[0m \u001b[1;33m=\u001b[0m \u001b[0mfrmap\u001b[0m\u001b[1;33m.\u001b[0m\u001b[0mplotTimeseries\u001b[0m\u001b[1;33m(\u001b[0m\u001b[0mDC\u001b[0m\u001b[1;33m,\u001b[0m \u001b[0mAdrive\u001b[0m\u001b[1;33m,\u001b[0m \u001b[0mfs\u001b[0m\u001b[1;33m=\u001b[0m\u001b[0mfs\u001b[0m\u001b[1;33m,\u001b[0m \u001b[0mpatches\u001b[0m\u001b[1;33m=\u001b[0m\u001b[1;34m'none'\u001b[0m\u001b[1;33m)\u001b[0m\u001b[1;33m\u001b[0m\u001b[1;33m\u001b[0m\u001b[0m\n\u001b[0m\u001b[0;32m     20\u001b[0m         \u001b[0mtracefig\u001b[0m\u001b[1;33m.\u001b[0m\u001b[0mset_size_inches\u001b[0m\u001b[1;33m(\u001b[0m\u001b[0mtrace_figsize\u001b[0m\u001b[1;33m)\u001b[0m\u001b[1;33m\u001b[0m\u001b[1;33m\u001b[0m\u001b[0m\n\u001b[0;32m     21\u001b[0m         \u001b[1;32mif\u001b[0m \u001b[0mtbounds\u001b[0m \u001b[1;32mis\u001b[0m \u001b[1;32mnot\u001b[0m \u001b[1;32mNone\u001b[0m\u001b[1;33m:\u001b[0m\u001b[1;33m\u001b[0m\u001b[1;33m\u001b[0m\u001b[0m\n",
      "\u001b[1;32mc:\\users\\lemaire\\documents\\repositories\\pysonic\\PySONIC\\plt\\actmap.py\u001b[0m in \u001b[0;36mplotTimeseries\u001b[1;34m(self, DC, A, **kwargs)\u001b[0m\n\u001b[0;32m    378\u001b[0m         \u001b[1;31m# Plot timeseries of appropriate variables\u001b[0m\u001b[1;33m\u001b[0m\u001b[1;33m\u001b[0m\u001b[1;33m\u001b[0m\u001b[0m\n\u001b[0;32m    379\u001b[0m         \u001b[0mtimeseries\u001b[0m \u001b[1;33m=\u001b[0m \u001b[0mGroupedTimeSeries\u001b[0m\u001b[1;33m(\u001b[0m\u001b[1;33m[\u001b[0m\u001b[1;33m(\u001b[0m\u001b[0mdata\u001b[0m\u001b[1;33m,\u001b[0m \u001b[0mmeta\u001b[0m\u001b[1;33m)\u001b[0m\u001b[1;33m]\u001b[0m\u001b[1;33m,\u001b[0m \u001b[0mpltscheme\u001b[0m\u001b[1;33m=\u001b[0m\u001b[0mself\u001b[0m\u001b[1;33m.\u001b[0m\u001b[0monclick_pltscheme\u001b[0m\u001b[1;33m)\u001b[0m\u001b[1;33m\u001b[0m\u001b[1;33m\u001b[0m\u001b[0m\n\u001b[1;32m--> 380\u001b[1;33m         \u001b[1;32mreturn\u001b[0m \u001b[0mtimeseries\u001b[0m\u001b[1;33m.\u001b[0m\u001b[0mrender\u001b[0m\u001b[1;33m(\u001b[0m\u001b[0mcolors\u001b[0m\u001b[1;33m=\u001b[0m\u001b[0mself\u001b[0m\u001b[1;33m.\u001b[0m\u001b[0monclick_colors\u001b[0m\u001b[1;33m,\u001b[0m \u001b[1;33m**\u001b[0m\u001b[0mkwargs\u001b[0m\u001b[1;33m)\u001b[0m\u001b[1;33m[\u001b[0m\u001b[1;36m0\u001b[0m\u001b[1;33m]\u001b[0m\u001b[1;33m\u001b[0m\u001b[1;33m\u001b[0m\u001b[0m\n\u001b[0m\u001b[0;32m    381\u001b[0m \u001b[1;33m\u001b[0m\u001b[0m\n\u001b[0;32m    382\u001b[0m     \u001b[1;32mdef\u001b[0m \u001b[0mrender\u001b[0m\u001b[1;33m(\u001b[0m\u001b[0mself\u001b[0m\u001b[1;33m,\u001b[0m \u001b[0myscale\u001b[0m\u001b[1;33m=\u001b[0m\u001b[1;34m'log'\u001b[0m\u001b[1;33m,\u001b[0m \u001b[0mthresholds\u001b[0m\u001b[1;33m=\u001b[0m\u001b[1;32mFalse\u001b[0m\u001b[1;33m,\u001b[0m \u001b[1;33m**\u001b[0m\u001b[0mkwargs\u001b[0m\u001b[1;33m)\u001b[0m\u001b[1;33m:\u001b[0m\u001b[1;33m\u001b[0m\u001b[1;33m\u001b[0m\u001b[0m\n",
      "\u001b[1;32mc:\\users\\lemaire\\documents\\repositories\\pysonic\\PySONIC\\plt\\timeseries.py\u001b[0m in \u001b[0;36mrender\u001b[1;34m(self, fs, lw, labels, colors, lines, patches, save, outputdir, fig_ext, frequency, spikes, trange, prettify)\u001b[0m\n\u001b[0;32m    403\u001b[0m             \u001b[1;32mexcept\u001b[0m \u001b[0mValueError\u001b[0m\u001b[1;33m:\u001b[0m\u001b[1;33m\u001b[0m\u001b[1;33m\u001b[0m\u001b[0m\n\u001b[0;32m    404\u001b[0m                 \u001b[1;32mcontinue\u001b[0m\u001b[1;33m\u001b[0m\u001b[1;33m\u001b[0m\u001b[0m\n\u001b[1;32m--> 405\u001b[1;33m             \u001b[0mmodel\u001b[0m \u001b[1;33m=\u001b[0m \u001b[0mself\u001b[0m\u001b[1;33m.\u001b[0m\u001b[0mgetModel\u001b[0m\u001b[1;33m(\u001b[0m\u001b[0mmeta\u001b[0m\u001b[1;33m)\u001b[0m\u001b[1;33m\u001b[0m\u001b[1;33m\u001b[0m\u001b[0m\n\u001b[0m\u001b[0;32m    406\u001b[0m \u001b[1;33m\u001b[0m\u001b[0m\n\u001b[0;32m    407\u001b[0m             \u001b[1;31m# Extract time and stim pulses\u001b[0m\u001b[1;33m\u001b[0m\u001b[1;33m\u001b[0m\u001b[1;33m\u001b[0m\u001b[0m\n",
      "\u001b[1;32mc:\\users\\lemaire\\documents\\repositories\\pysonic\\PySONIC\\plt\\pltutils.py\u001b[0m in \u001b[0;36mgetModel\u001b[1;34m(*args, **kwargs)\u001b[0m\n\u001b[0;32m    131\u001b[0m     \u001b[1;33m@\u001b[0m\u001b[0mstaticmethod\u001b[0m\u001b[1;33m\u001b[0m\u001b[1;33m\u001b[0m\u001b[0m\n\u001b[0;32m    132\u001b[0m     \u001b[1;32mdef\u001b[0m \u001b[0mgetModel\u001b[0m\u001b[1;33m(\u001b[0m\u001b[1;33m*\u001b[0m\u001b[0margs\u001b[0m\u001b[1;33m,\u001b[0m \u001b[1;33m**\u001b[0m\u001b[0mkwargs\u001b[0m\u001b[1;33m)\u001b[0m\u001b[1;33m:\u001b[0m\u001b[1;33m\u001b[0m\u001b[1;33m\u001b[0m\u001b[0m\n\u001b[1;32m--> 133\u001b[1;33m         \u001b[1;32mreturn\u001b[0m \u001b[0mgetModel\u001b[0m\u001b[1;33m(\u001b[0m\u001b[1;33m*\u001b[0m\u001b[0margs\u001b[0m\u001b[1;33m,\u001b[0m \u001b[1;33m**\u001b[0m\u001b[0mkwargs\u001b[0m\u001b[1;33m)\u001b[0m\u001b[1;33m\u001b[0m\u001b[1;33m\u001b[0m\u001b[0m\n\u001b[0m\u001b[0;32m    134\u001b[0m \u001b[1;33m\u001b[0m\u001b[0m\n\u001b[0;32m    135\u001b[0m     \u001b[1;33m@\u001b[0m\u001b[0mstaticmethod\u001b[0m\u001b[1;33m\u001b[0m\u001b[1;33m\u001b[0m\u001b[0m\n",
      "\u001b[1;32mc:\\users\\lemaire\\documents\\repositories\\pysonic\\PySONIC\\core\\__init__.py\u001b[0m in \u001b[0;36mgetModel\u001b[1;34m(meta)\u001b[0m\n\u001b[0;32m     48\u001b[0m         \u001b[1;32mreturn\u001b[0m \u001b[0mmodels_dict\u001b[0m\u001b[1;33m[\u001b[0m\u001b[0msimkey\u001b[0m\u001b[1;33m]\u001b[0m\u001b[1;33m.\u001b[0m\u001b[0minitFromMeta\u001b[0m\u001b[1;33m(\u001b[0m\u001b[0mmeta\u001b[0m\u001b[1;33m[\u001b[0m\u001b[1;34m'model'\u001b[0m\u001b[1;33m]\u001b[0m\u001b[1;33m)\u001b[0m\u001b[1;33m\u001b[0m\u001b[1;33m\u001b[0m\u001b[0m\n\u001b[0;32m     49\u001b[0m     \u001b[1;32mexcept\u001b[0m \u001b[0mKeyError\u001b[0m\u001b[1;33m:\u001b[0m\u001b[1;33m\u001b[0m\u001b[1;33m\u001b[0m\u001b[0m\n\u001b[1;32m---> 50\u001b[1;33m         \u001b[1;32mraise\u001b[0m \u001b[0mValueError\u001b[0m\u001b[1;33m(\u001b[0m\u001b[1;34mf'Unknown model type:{simkey}'\u001b[0m\u001b[1;33m)\u001b[0m\u001b[1;33m\u001b[0m\u001b[1;33m\u001b[0m\u001b[0m\n\u001b[0m",
      "\u001b[1;31mValueError\u001b[0m: Unknown model type:ASTIM"
     ]
    },
    {
     "data": {
      "image/png": "[encoded data removed]",
      "text/plain": [
       "<Figure size 453.543x328.819 with 2 Axes>"
      ]
     },
     "metadata": {
      "needs_background": "light"
     },
     "output_type": "display_data"
    }
   ],
   "source": [
    "pneuron = getPointNeuron('RS')\n",
    "insets = [(28., 126.96, 'i', 'ul'), (37., 168.39, 'ii', 'ur')]\n",
    "out = plotMapAndTraces(*sim_args(pneuron, PRF), insets=insets, **pltargs)\n",
    "figs.update({f'{subindex}_{k}': v for k, v in out.items()})"
   ]
  },
  {
   "cell_type": "markdown",
   "metadata": {},
   "source": [
    "### LTS neuron"
   ]
  },
  {
   "cell_type": "code",
   "execution_count": null,
   "metadata": {},
   "outputs": [],
   "source": [
    "pneuron = getPointNeuron('LTS')\n",
    "insets = [(8, 47.26, 'iii', 'lr'), (30, 146.22, 'iv', 'ur')]\n",
    "out = plotMapAndTraces(*sim_args(pneuron, PRF), insets=insets, **pltargs)\n",
    "figs.update({f'{subindex}_{k}': v for k, v in out.items()})"
   ]
  },
  {
   "cell_type": "markdown",
   "metadata": {},
   "source": [
    "## 100 Hz PRF"
   ]
  },
  {
   "cell_type": "code",
   "execution_count": null,
   "metadata": {},
   "outputs": [],
   "source": [
    "subindex = 'b'\n",
    "PRF = 1e2  # Hz"
   ]
  },
  {
   "cell_type": "markdown",
   "metadata": {},
   "source": [
    "### RS neuron"
   ]
  },
  {
   "cell_type": "code",
   "execution_count": null,
   "metadata": {},
   "outputs": [],
   "source": [
    "pneuron = getPointNeuron('RS')\n",
    "insets = [(51, 452.40, 'i', 'ul'), (56, 452.40, 'ii', 'ur')]\n",
    "out = plotMapAndTraces(*sim_args(pneuron, PRF), insets=insets, **pltargs)\n",
    "figs.update({f'{subindex}_{k}': v for k, v in out.items()})"
   ]
  },
  {
   "cell_type": "markdown",
   "metadata": {},
   "source": [
    "### LTS neuron"
   ]
  },
  {
   "cell_type": "code",
   "execution_count": null,
   "metadata": {},
   "outputs": [],
   "source": [
    "pneuron = getPointNeuron('LTS')\n",
    "insets = [(13, 193.92, 'iii', 'lr'), (43, 257.19, 'iv', 'ul')]\n",
    "out = plotMapAndTraces(*sim_args(pneuron, PRF), insets=insets, **pltargs)\n",
    "figs.update({f'{subindex}_{k}': v for k, v in out.items()})"
   ]
  },
  {
   "cell_type": "markdown",
   "metadata": {},
   "source": [
    "## 1 kHz PRF"
   ]
  },
  {
   "cell_type": "code",
   "execution_count": null,
   "metadata": {},
   "outputs": [],
   "source": [
    "subindex = 'c'\n",
    "PRF = 1e3  # Hz"
   ]
  },
  {
   "cell_type": "markdown",
   "metadata": {},
   "source": [
    "### RS neuron"
   ]
  },
  {
   "cell_type": "code",
   "execution_count": null,
   "metadata": {},
   "outputs": [],
   "source": [
    "pneuron = getPointNeuron('RS')\n",
    "insets = [(40, 110.25, 'i', 'ul'), (.64, 193.92, 'ii', 'ur')]\n",
    "out = plotMapAndTraces(*sim_args(pneuron, PRF), insets=insets, **pltargs)\n",
    "figs.update({f'{subindex}_{k}': v for k, v in out.items()})"
   ]
  },
  {
   "cell_type": "markdown",
   "metadata": {},
   "source": [
    "### LTS neuron"
   ]
  },
  {
   "cell_type": "code",
   "execution_count": null,
   "metadata": {},
   "outputs": [],
   "source": [
    "pneuron = getPointNeuron('LTS')\n",
    "insets = [(10, 47.26, 'iii', 'lr'), (53, 168.39, 'iv', 'ur')]\n",
    "out = plotMapAndTraces(*sim_args(pneuron, PRF), insets=insets, **pltargs)\n",
    "figs.update({f'{subindex}_{k}': v for k, v in out.items()})"
   ]
  },
  {
   "cell_type": "markdown",
   "metadata": {},
   "source": [
    "### Save figure panels\n",
    "\n",
    "Save figure panels as **pdf** in the *figs* sub-folder:"
   ]
  },
  {
   "cell_type": "code",
   "execution_count": null,
   "metadata": {},
   "outputs": [],
   "source": [
    "saveFigsAsPDF(figs, figindex)"
   ]
  }
 ],
 "metadata": {
  "kernelspec": {
   "display_name": "Python 3",
   "language": "python",
   "name": "python3"
  },
  "language_info": {
   "codemirror_mode": {
    "name": "ipython",
    "version": 3
   },
   "file_extension": ".py",
   "mimetype": "text/x-python",
   "name": "python",
   "nbconvert_exporter": "python",
   "pygments_lexer": "ipython3",
   "version": "3.7.3"
  }
 },
 "nbformat": 4,
 "nbformat_minor": 4
}
