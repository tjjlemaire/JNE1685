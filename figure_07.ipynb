{
 "cells": [
  {
   "cell_type": "markdown",
   "metadata": {},
   "source": [
    "# Figure 7 - Cell-type-specific behavior maps\n",
    "\n",
    "Create (DC x amplitude) behavior maps of RS and LTS neurons at various pulse repetition frequencies, along with characteristic Q-V traces, from SONIC model predictions."
   ]
  },
  {
   "cell_type": "markdown",
   "metadata": {},
   "source": [
    "### Imports"
   ]
  },
  {
   "cell_type": "code",
   "execution_count": 1,
   "metadata": {},
   "outputs": [],
   "source": [
    "import os\n",
    "import logging\n",
    "import numpy as np\n",
    "import matplotlib.pyplot as plt\n",
    "from PySONIC.utils import logger\n",
    "from PySONIC.neurons import getPointNeuron\n",
    "from PySONIC.plt import cm2inch, FiringRateMap\n",
    "from utils import subdirectory, codes, saveFigsAsPDF\n",
    "\n",
    "logger.setLevel(logging.INFO)"
   ]
  },
  {
   "cell_type": "markdown",
   "metadata": {},
   "source": [
    "### Functions"
   ]
  },
  {
   "cell_type": "code",
   "execution_count": 2,
   "metadata": {},
   "outputs": [],
   "source": [
    "def plotMapAndTraces(subdir, pneuron, a, Fdrive, tstim, amps, PRF, DCs, cov,\n",
    "                     FRbounds=None, thresholds=True, insets=None, tbounds=None,\n",
    "                     Vbounds=None, map_figsize=None, trace_figsize=None, fs=8, lw=1):\n",
    "\n",
    "    mapcodes = codes(a, pneuron, Fdrive, PRF, tstim)\n",
    "    subsubdir = os.path.join(subdir, ' '.join(mapcodes))\n",
    "    if not os.path.isdir(subsubdir):\n",
    "        os.mkdir(subsubdir)\n",
    "    figs = {}\n",
    "\n",
    "    # FR map\n",
    "    frmap = FiringRateMap(subsubdir, pneuron, a, 1., Fdrive, tstim, PRF, amps, DCs)\n",
    "    frmap.run(mpi=True)\n",
    "    mapfig = frmap.render(\n",
    "        zbounds=FRbounds, thresholds=thresholds, mpi=True, figsize=map_figsize, fs=fs, insets=insets)\n",
    "    figs['map_' + '_'.join(mapcodes)] = mapfig\n",
    "\n",
    "    # Related inset traces\n",
    "    for inset in insets:\n",
    "        DC, Adrive = inset[:2]\n",
    "        tracefig = frmap.plotTimeseries(DC, Adrive, fs=fs, patches='none')\n",
    "        tracefig.set_size_inches(trace_figsize)\n",
    "        ax = tracefig.axes[0]\n",
    "        if tbounds is not None:\n",
    "            ax.set_xlim(tbounds)\n",
    "        if Vbounds is not None:\n",
    "            ax.set_ylim(Vbounds)\n",
    "        ax.set_title(f'DC = {DC:.0f}%, A = {Adrive:.1f} kPa', pad=10.0)\n",
    "        box = ax.get_position()\n",
    "        ax.set_position([box.x0, box.y0, box.width * 0.8, box.height])\n",
    "        ax.legend(loc='center left', bbox_to_anchor=(1, 0.5), frameon=False, fontsize=fs)\n",
    "        figcode = 'VQ trace {} {:.1f}kPa {:.0f}%DC'.format(pneuron.name, Adrive, DC)\n",
    "        figs[figcode] = tracefig\n",
    "\n",
    "    return figs"
   ]
  },
  {
   "cell_type": "markdown",
   "metadata": {},
   "source": [
    "### Data sub-directory"
   ]
  },
  {
   "cell_type": "code",
   "execution_count": 3,
   "metadata": {},
   "outputs": [],
   "source": [
    "subdir = subdirectory('maps')"
   ]
  },
  {
   "cell_type": "markdown",
   "metadata": {},
   "source": [
    "### Plot parameters"
   ]
  },
  {
   "cell_type": "code",
   "execution_count": 4,
   "metadata": {},
   "outputs": [],
   "source": [
    "figindex = 7\n",
    "pltargs = {\n",
    "    'map_figsize': cm2inch(16, 11.6),\n",
    "    'trace_figsize': cm2inch(14, 6),\n",
    "    'fs': 14,\n",
    "    'lw': 2,\n",
    "    'FRbounds': (1e0, 1e3),  # Hz\n",
    "    'tbounds': (-10, 240.),  # s\n",
    "    'Vbounds': (-200, 50),  # mV\n",
    "    'thresholds': True\n",
    "}\n",
    "figs = {}"
   ]
  },
  {
   "cell_type": "markdown",
   "metadata": {},
   "source": [
    "### Simulation parameters"
   ]
  },
  {
   "cell_type": "code",
   "execution_count": 5,
   "metadata": {},
   "outputs": [],
   "source": [
    "a = 32e-9       # m\n",
    "Fdrive = 500e3  # Hz\n",
    "tstim = 1.0     # s\n",
    "cov = 1.0\n",
    "amps = np.logspace(np.log10(10), np.log10(600), num=30) * 1e3  # Pa\n",
    "DCs = np.arange(1, 101) * 1e-2\n",
    "sim_args = lambda pneuron, PRF: [subdir, pneuron, a, Fdrive, tstim, amps, PRF, DCs, cov]"
   ]
  },
  {
   "cell_type": "markdown",
   "metadata": {},
   "source": [
    "## 10 Hz PRF"
   ]
  },
  {
   "cell_type": "code",
   "execution_count": 6,
   "metadata": {},
   "outputs": [],
   "source": [
    "subindex = 'a'\n",
    "PRF = 1e1  # Hz"
   ]
  },
  {
   "cell_type": "markdown",
   "metadata": {},
   "source": [
    "### RS neuron"
   ]
  },
  {
   "cell_type": "code",
   "execution_count": 7,
   "metadata": {},
   "outputs": [
    {
     "name": "stderr",
     "output_type": "stream",
     "text": [
      " 29/04/2020 17:07:43: Firing rate range: 2 - 799 Hz\n"
     ]
    },
    {
     "name": "stdout",
     "output_type": "stream",
     "text": [
      "[AcousticDrive(f=500kHz), PulsedProtocol(tstim=1s, PRF=10.00Hz, DC=1.0%), 1.0, 'sonic', None]\n",
      "[AcousticDrive(f=500kHz), PulsedProtocol(tstim=1s, PRF=10.00Hz, DC=2.0%), 1.0, 'sonic', None]\n",
      "[AcousticDrive(f=500kHz), PulsedProtocol(tstim=1s, PRF=10.00Hz, DC=3.0%), 1.0, 'sonic', None]\n",
      "[AcousticDrive(f=500kHz), PulsedProtocol(tstim=1s, PRF=10.00Hz, DC=4.0%), 1.0, 'sonic', None]\n",
      "[AcousticDrive(f=500kHz), PulsedProtocol(tstim=1s, PRF=10.00Hz, DC=5.0%), 1.0, 'sonic', None]\n",
      "[AcousticDrive(f=500kHz), PulsedProtocol(tstim=1s, PRF=10.00Hz, DC=6.0%), 1.0, 'sonic', None]\n",
      "[AcousticDrive(f=500kHz), PulsedProtocol(tstim=1s, PRF=10.00Hz, DC=7.0%), 1.0, 'sonic', None]\n",
      "[AcousticDrive(f=500kHz), PulsedProtocol(tstim=1s, PRF=10.00Hz, DC=8.0%), 1.0, 'sonic', None]\n",
      "[AcousticDrive(f=500kHz), PulsedProtocol(tstim=1s, PRF=10.00Hz, DC=9.0%), 1.0, 'sonic', None]\n",
      "[AcousticDrive(f=500kHz), PulsedProtocol(tstim=1s, PRF=10.00Hz, DC=10.0%), 1.0, 'sonic', None]\n",
      "[AcousticDrive(f=500kHz), PulsedProtocol(tstim=1s, PRF=10.00Hz, DC=11.0%), 1.0, 'sonic', None]\n",
      "[AcousticDrive(f=500kHz), PulsedProtocol(tstim=1s, PRF=10.00Hz, DC=12.0%), 1.0, 'sonic', None]\n",
      "[AcousticDrive(f=500kHz), PulsedProtocol(tstim=1s, PRF=10.00Hz, DC=13.0%), 1.0, 'sonic', None]\n",
      "[AcousticDrive(f=500kHz), PulsedProtocol(tstim=1s, PRF=10.00Hz, DC=14.0%), 1.0, 'sonic', None]\n",
      "[AcousticDrive(f=500kHz), PulsedProtocol(tstim=1s, PRF=10.00Hz, DC=15.0%), 1.0, 'sonic', None]\n",
      "[AcousticDrive(f=500kHz), PulsedProtocol(tstim=1s, PRF=10.00Hz, DC=16.0%), 1.0, 'sonic', None]\n",
      "[AcousticDrive(f=500kHz), PulsedProtocol(tstim=1s, PRF=10.00Hz, DC=17.0%), 1.0, 'sonic', None]\n",
      "[AcousticDrive(f=500kHz), PulsedProtocol(tstim=1s, PRF=10.00Hz, DC=18.0%), 1.0, 'sonic', None]\n",
      "[AcousticDrive(f=500kHz), PulsedProtocol(tstim=1s, PRF=10.00Hz, DC=19.0%), 1.0, 'sonic', None]\n",
      "[AcousticDrive(f=500kHz), PulsedProtocol(tstim=1s, PRF=10.00Hz, DC=20.0%), 1.0, 'sonic', None]\n",
      "[AcousticDrive(f=500kHz), PulsedProtocol(tstim=1s, PRF=10.00Hz, DC=21.0%), 1.0, 'sonic', None]\n",
      "[AcousticDrive(f=500kHz), PulsedProtocol(tstim=1s, PRF=10.00Hz, DC=22.0%), 1.0, 'sonic', None]\n",
      "[AcousticDrive(f=500kHz), PulsedProtocol(tstim=1s, PRF=10.00Hz, DC=23.0%), 1.0, 'sonic', None]\n",
      "[AcousticDrive(f=500kHz), PulsedProtocol(tstim=1s, PRF=10.00Hz, DC=24.0%), 1.0, 'sonic', None]\n",
      "[AcousticDrive(f=500kHz), PulsedProtocol(tstim=1s, PRF=10.00Hz, DC=25.0%), 1.0, 'sonic', None]\n",
      "[AcousticDrive(f=500kHz), PulsedProtocol(tstim=1s, PRF=10.00Hz, DC=26.0%), 1.0, 'sonic', None]\n",
      "[AcousticDrive(f=500kHz), PulsedProtocol(tstim=1s, PRF=10.00Hz, DC=27.0%), 1.0, 'sonic', None]\n",
      "[AcousticDrive(f=500kHz), PulsedProtocol(tstim=1s, PRF=10.00Hz, DC=28.0%), 1.0, 'sonic', None]\n",
      "[AcousticDrive(f=500kHz), PulsedProtocol(tstim=1s, PRF=10.00Hz, DC=29.0%), 1.0, 'sonic', None]\n",
      "[AcousticDrive(f=500kHz), PulsedProtocol(tstim=1s, PRF=10.00Hz, DC=30.0%), 1.0, 'sonic', None]\n",
      "[AcousticDrive(f=500kHz), PulsedProtocol(tstim=1s, PRF=10.00Hz, DC=31.0%), 1.0, 'sonic', None]\n",
      "[AcousticDrive(f=500kHz), PulsedProtocol(tstim=1s, PRF=10.00Hz, DC=32.0%), 1.0, 'sonic', None]\n",
      "[AcousticDrive(f=500kHz), PulsedProtocol(tstim=1s, PRF=10.00Hz, DC=33.0%), 1.0, 'sonic', None]\n",
      "[AcousticDrive(f=500kHz), PulsedProtocol(tstim=1s, PRF=10.00Hz, DC=34.0%), 1.0, 'sonic', None]\n",
      "[AcousticDrive(f=500kHz), PulsedProtocol(tstim=1s, PRF=10.00Hz, DC=35.0%), 1.0, 'sonic', None]\n",
      "[AcousticDrive(f=500kHz), PulsedProtocol(tstim=1s, PRF=10.00Hz, DC=36.0%), 1.0, 'sonic', None]\n",
      "[AcousticDrive(f=500kHz), PulsedProtocol(tstim=1s, PRF=10.00Hz, DC=37.0%), 1.0, 'sonic', None]\n",
      "[AcousticDrive(f=500kHz), PulsedProtocol(tstim=1s, PRF=10.00Hz, DC=38.0%), 1.0, 'sonic', None]\n",
      "[AcousticDrive(f=500kHz), PulsedProtocol(tstim=1s, PRF=10.00Hz, DC=39.0%), 1.0, 'sonic', None]\n",
      "[AcousticDrive(f=500kHz), PulsedProtocol(tstim=1s, PRF=10.00Hz, DC=40.0%), 1.0, 'sonic', None]\n",
      "[AcousticDrive(f=500kHz), PulsedProtocol(tstim=1s, PRF=10.00Hz, DC=41.0%), 1.0, 'sonic', None]\n",
      "[AcousticDrive(f=500kHz), PulsedProtocol(tstim=1s, PRF=10.00Hz, DC=42.0%), 1.0, 'sonic', None]\n",
      "[AcousticDrive(f=500kHz), PulsedProtocol(tstim=1s, PRF=10.00Hz, DC=43.0%), 1.0, 'sonic', None]\n",
      "[AcousticDrive(f=500kHz), PulsedProtocol(tstim=1s, PRF=10.00Hz, DC=44.0%), 1.0, 'sonic', None]\n",
      "[AcousticDrive(f=500kHz), PulsedProtocol(tstim=1s, PRF=10.00Hz, DC=45.0%), 1.0, 'sonic', None]\n",
      "[AcousticDrive(f=500kHz), PulsedProtocol(tstim=1s, PRF=10.00Hz, DC=46.0%), 1.0, 'sonic', None]\n",
      "[AcousticDrive(f=500kHz), PulsedProtocol(tstim=1s, PRF=10.00Hz, DC=47.0%), 1.0, 'sonic', None]\n",
      "[AcousticDrive(f=500kHz), PulsedProtocol(tstim=1s, PRF=10.00Hz, DC=48.0%), 1.0, 'sonic', None]\n",
      "[AcousticDrive(f=500kHz), PulsedProtocol(tstim=1s, PRF=10.00Hz, DC=49.0%), 1.0, 'sonic', None]\n",
      "[AcousticDrive(f=500kHz), PulsedProtocol(tstim=1s, PRF=10.00Hz, DC=50.0%), 1.0, 'sonic', None]\n",
      "[AcousticDrive(f=500kHz), PulsedProtocol(tstim=1s, PRF=10.00Hz, DC=51.0%), 1.0, 'sonic', None]\n",
      "[AcousticDrive(f=500kHz), PulsedProtocol(tstim=1s, PRF=10.00Hz, DC=52.0%), 1.0, 'sonic', None]\n",
      "[AcousticDrive(f=500kHz), PulsedProtocol(tstim=1s, PRF=10.00Hz, DC=53.0%), 1.0, 'sonic', None]\n",
      "[AcousticDrive(f=500kHz), PulsedProtocol(tstim=1s, PRF=10.00Hz, DC=54.0%), 1.0, 'sonic', None]\n",
      "[AcousticDrive(f=500kHz), PulsedProtocol(tstim=1s, PRF=10.00Hz, DC=55.0%), 1.0, 'sonic', None]\n",
      "[AcousticDrive(f=500kHz), PulsedProtocol(tstim=1s, PRF=10.00Hz, DC=56.0%), 1.0, 'sonic', None]\n",
      "[AcousticDrive(f=500kHz), PulsedProtocol(tstim=1s, PRF=10.00Hz, DC=57.0%), 1.0, 'sonic', None]\n",
      "[AcousticDrive(f=500kHz), PulsedProtocol(tstim=1s, PRF=10.00Hz, DC=58.0%), 1.0, 'sonic', None]\n",
      "[AcousticDrive(f=500kHz), PulsedProtocol(tstim=1s, PRF=10.00Hz, DC=59.0%), 1.0, 'sonic', None]\n",
      "[AcousticDrive(f=500kHz), PulsedProtocol(tstim=1s, PRF=10.00Hz, DC=60.0%), 1.0, 'sonic', None]\n",
      "[AcousticDrive(f=500kHz), PulsedProtocol(tstim=1s, PRF=10.00Hz, DC=61.0%), 1.0, 'sonic', None]\n",
      "[AcousticDrive(f=500kHz), PulsedProtocol(tstim=1s, PRF=10.00Hz, DC=62.0%), 1.0, 'sonic', None]\n",
      "[AcousticDrive(f=500kHz), PulsedProtocol(tstim=1s, PRF=10.00Hz, DC=63.0%), 1.0, 'sonic', None]\n",
      "[AcousticDrive(f=500kHz), PulsedProtocol(tstim=1s, PRF=10.00Hz, DC=64.0%), 1.0, 'sonic', None]\n",
      "[AcousticDrive(f=500kHz), PulsedProtocol(tstim=1s, PRF=10.00Hz, DC=65.0%), 1.0, 'sonic', None]\n",
      "[AcousticDrive(f=500kHz), PulsedProtocol(tstim=1s, PRF=10.00Hz, DC=66.0%), 1.0, 'sonic', None]\n",
      "[AcousticDrive(f=500kHz), PulsedProtocol(tstim=1s, PRF=10.00Hz, DC=67.0%), 1.0, 'sonic', None]\n",
      "[AcousticDrive(f=500kHz), PulsedProtocol(tstim=1s, PRF=10.00Hz, DC=68.0%), 1.0, 'sonic', None]\n",
      "[AcousticDrive(f=500kHz), PulsedProtocol(tstim=1s, PRF=10.00Hz, DC=69.0%), 1.0, 'sonic', None]\n",
      "[AcousticDrive(f=500kHz), PulsedProtocol(tstim=1s, PRF=10.00Hz, DC=70.0%), 1.0, 'sonic', None]\n",
      "[AcousticDrive(f=500kHz), PulsedProtocol(tstim=1s, PRF=10.00Hz, DC=71.0%), 1.0, 'sonic', None]\n",
      "[AcousticDrive(f=500kHz), PulsedProtocol(tstim=1s, PRF=10.00Hz, DC=72.0%), 1.0, 'sonic', None]\n",
      "[AcousticDrive(f=500kHz), PulsedProtocol(tstim=1s, PRF=10.00Hz, DC=73.0%), 1.0, 'sonic', None]\n",
      "[AcousticDrive(f=500kHz), PulsedProtocol(tstim=1s, PRF=10.00Hz, DC=74.0%), 1.0, 'sonic', None]\n",
      "[AcousticDrive(f=500kHz), PulsedProtocol(tstim=1s, PRF=10.00Hz, DC=75.0%), 1.0, 'sonic', None]\n",
      "[AcousticDrive(f=500kHz), PulsedProtocol(tstim=1s, PRF=10.00Hz, DC=76.0%), 1.0, 'sonic', None]\n",
      "[AcousticDrive(f=500kHz), PulsedProtocol(tstim=1s, PRF=10.00Hz, DC=77.0%), 1.0, 'sonic', None]\n",
      "[AcousticDrive(f=500kHz), PulsedProtocol(tstim=1s, PRF=10.00Hz, DC=78.0%), 1.0, 'sonic', None]\n",
      "[AcousticDrive(f=500kHz), PulsedProtocol(tstim=1s, PRF=10.00Hz, DC=79.0%), 1.0, 'sonic', None]\n",
      "[AcousticDrive(f=500kHz), PulsedProtocol(tstim=1s, PRF=10.00Hz, DC=80.0%), 1.0, 'sonic', None]\n",
      "[AcousticDrive(f=500kHz), PulsedProtocol(tstim=1s, PRF=10.00Hz, DC=81.0%), 1.0, 'sonic', None]\n",
      "[AcousticDrive(f=500kHz), PulsedProtocol(tstim=1s, PRF=10.00Hz, DC=82.0%), 1.0, 'sonic', None]\n",
      "[AcousticDrive(f=500kHz), PulsedProtocol(tstim=1s, PRF=10.00Hz, DC=83.0%), 1.0, 'sonic', None]\n",
      "[AcousticDrive(f=500kHz), PulsedProtocol(tstim=1s, PRF=10.00Hz, DC=84.0%), 1.0, 'sonic', None]\n",
      "[AcousticDrive(f=500kHz), PulsedProtocol(tstim=1s, PRF=10.00Hz, DC=85.0%), 1.0, 'sonic', None]\n",
      "[AcousticDrive(f=500kHz), PulsedProtocol(tstim=1s, PRF=10.00Hz, DC=86.0%), 1.0, 'sonic', None]\n",
      "[AcousticDrive(f=500kHz), PulsedProtocol(tstim=1s, PRF=10.00Hz, DC=87.0%), 1.0, 'sonic', None]\n",
      "[AcousticDrive(f=500kHz), PulsedProtocol(tstim=1s, PRF=10.00Hz, DC=88.0%), 1.0, 'sonic', None]\n",
      "[AcousticDrive(f=500kHz), PulsedProtocol(tstim=1s, PRF=10.00Hz, DC=89.0%), 1.0, 'sonic', None]\n",
      "[AcousticDrive(f=500kHz), PulsedProtocol(tstim=1s, PRF=10.00Hz, DC=90.0%), 1.0, 'sonic', None]\n",
      "[AcousticDrive(f=500kHz), PulsedProtocol(tstim=1s, PRF=10.00Hz, DC=91.0%), 1.0, 'sonic', None]\n",
      "[AcousticDrive(f=500kHz), PulsedProtocol(tstim=1s, PRF=10.00Hz, DC=92.0%), 1.0, 'sonic', None]\n",
      "[AcousticDrive(f=500kHz), PulsedProtocol(tstim=1s, PRF=10.00Hz, DC=93.0%), 1.0, 'sonic', None]\n",
      "[AcousticDrive(f=500kHz), PulsedProtocol(tstim=1s, PRF=10.00Hz, DC=94.0%), 1.0, 'sonic', None]\n",
      "[AcousticDrive(f=500kHz), PulsedProtocol(tstim=1s, PRF=10.00Hz, DC=95.0%), 1.0, 'sonic', None]\n",
      "[AcousticDrive(f=500kHz), PulsedProtocol(tstim=1s, PRF=10.00Hz, DC=96.0%), 1.0, 'sonic', None]\n",
      "[AcousticDrive(f=500kHz), PulsedProtocol(tstim=1s, PRF=10.00Hz, DC=97.0%), 1.0, 'sonic', None]\n",
      "[AcousticDrive(f=500kHz), PulsedProtocol(tstim=1s, PRF=10.00Hz, DC=98.0%), 1.0, 'sonic', None]\n",
      "[AcousticDrive(f=500kHz), PulsedProtocol(tstim=1s, PRF=10.00Hz, DC=99.0%), 1.0, 'sonic', None]\n",
      "[AcousticDrive(f=500kHz), PulsedProtocol(tstim=1s), 1.0, 'sonic', None]\n"
     ]
    },
    {
     "name": "stderr",
     "output_type": "stream",
     "text": [
      " 29/04/2020 17:07:44: NeuronalBilayerSonophore(32.0 nm, CorticalRS): sonic simulation @ f = 500kHz, A = 10.00kPa, tstim = 1s, PRF = 10.00Hz, DC = 1.0%\n",
      " 29/04/2020 17:07:49: NeuronalBilayerSonophore(32.0 nm, CorticalRS): sonic simulation @ f = 500kHz, A = 600.00kPa, tstim = 1s, PRF = 10.00Hz, DC = 1.0%\n"
     ]
    },
    {
     "ename": "KeyboardInterrupt",
     "evalue": "",
     "output_type": "error",
     "traceback": [
      "\u001b[1;31m---------------------------------------------------------------------------\u001b[0m",
      "\u001b[1;31mKeyboardInterrupt\u001b[0m                         Traceback (most recent call last)",
      "\u001b[1;32m<ipython-input-7-8077d3a8008c>\u001b[0m in \u001b[0;36m<module>\u001b[1;34m\u001b[0m\n\u001b[0;32m      1\u001b[0m \u001b[0mpneuron\u001b[0m \u001b[1;33m=\u001b[0m \u001b[0mgetPointNeuron\u001b[0m\u001b[1;33m(\u001b[0m\u001b[1;34m'RS'\u001b[0m\u001b[1;33m)\u001b[0m\u001b[1;33m\u001b[0m\u001b[1;33m\u001b[0m\u001b[0m\n\u001b[0;32m      2\u001b[0m \u001b[0minsets\u001b[0m \u001b[1;33m=\u001b[0m \u001b[1;33m[\u001b[0m\u001b[1;33m(\u001b[0m\u001b[1;36m28.\u001b[0m\u001b[1;33m,\u001b[0m \u001b[1;36m126.96\u001b[0m\u001b[1;33m,\u001b[0m \u001b[1;34m'i'\u001b[0m\u001b[1;33m,\u001b[0m \u001b[1;34m'ul'\u001b[0m\u001b[1;33m)\u001b[0m\u001b[1;33m,\u001b[0m \u001b[1;33m(\u001b[0m\u001b[1;36m37.\u001b[0m\u001b[1;33m,\u001b[0m \u001b[1;36m168.39\u001b[0m\u001b[1;33m,\u001b[0m \u001b[1;34m'ii'\u001b[0m\u001b[1;33m,\u001b[0m \u001b[1;34m'ur'\u001b[0m\u001b[1;33m)\u001b[0m\u001b[1;33m]\u001b[0m\u001b[1;33m\u001b[0m\u001b[1;33m\u001b[0m\u001b[0m\n\u001b[1;32m----> 3\u001b[1;33m \u001b[0mout\u001b[0m \u001b[1;33m=\u001b[0m \u001b[0mplotMapAndTraces\u001b[0m\u001b[1;33m(\u001b[0m\u001b[1;33m*\u001b[0m\u001b[0msim_args\u001b[0m\u001b[1;33m(\u001b[0m\u001b[0mpneuron\u001b[0m\u001b[1;33m,\u001b[0m \u001b[0mPRF\u001b[0m\u001b[1;33m)\u001b[0m\u001b[1;33m,\u001b[0m \u001b[0minsets\u001b[0m\u001b[1;33m=\u001b[0m\u001b[0minsets\u001b[0m\u001b[1;33m,\u001b[0m \u001b[1;33m**\u001b[0m\u001b[0mpltargs\u001b[0m\u001b[1;33m)\u001b[0m\u001b[1;33m\u001b[0m\u001b[1;33m\u001b[0m\u001b[0m\n\u001b[0m\u001b[0;32m      4\u001b[0m \u001b[0mfigs\u001b[0m\u001b[1;33m.\u001b[0m\u001b[0mupdate\u001b[0m\u001b[1;33m(\u001b[0m\u001b[1;33m{\u001b[0m\u001b[1;34mf'{subindex}_{k}'\u001b[0m\u001b[1;33m:\u001b[0m \u001b[0mv\u001b[0m \u001b[1;32mfor\u001b[0m \u001b[0mk\u001b[0m\u001b[1;33m,\u001b[0m \u001b[0mv\u001b[0m \u001b[1;32min\u001b[0m \u001b[0mout\u001b[0m\u001b[1;33m.\u001b[0m\u001b[0mitems\u001b[0m\u001b[1;33m(\u001b[0m\u001b[1;33m)\u001b[0m\u001b[1;33m}\u001b[0m\u001b[1;33m)\u001b[0m\u001b[1;33m\u001b[0m\u001b[1;33m\u001b[0m\u001b[0m\n",
      "\u001b[1;32m<ipython-input-2-c430c7086761>\u001b[0m in \u001b[0;36mplotMapAndTraces\u001b[1;34m(subdir, pneuron, a, Fdrive, tstim, amps, PRF, DCs, cov, FRbounds, thresholds, insets, tbounds, Vbounds, map_figsize, trace_figsize, fs, lw)\u001b[0m\n\u001b[0;32m     13\u001b[0m     \u001b[0mfrmap\u001b[0m\u001b[1;33m.\u001b[0m\u001b[0mrun\u001b[0m\u001b[1;33m(\u001b[0m\u001b[0mmpi\u001b[0m\u001b[1;33m=\u001b[0m\u001b[1;32mTrue\u001b[0m\u001b[1;33m)\u001b[0m\u001b[1;33m\u001b[0m\u001b[1;33m\u001b[0m\u001b[0m\n\u001b[0;32m     14\u001b[0m     mapfig = frmap.render(\n\u001b[1;32m---> 15\u001b[1;33m         zbounds=FRbounds, thresholds=thresholds, mpi=False, figsize=map_figsize, fs=fs, insets=insets)\n\u001b[0m\u001b[0;32m     16\u001b[0m     \u001b[0mfigs\u001b[0m\u001b[1;33m[\u001b[0m\u001b[1;34m'map_'\u001b[0m \u001b[1;33m+\u001b[0m \u001b[1;34m'_'\u001b[0m\u001b[1;33m.\u001b[0m\u001b[0mjoin\u001b[0m\u001b[1;33m(\u001b[0m\u001b[0mmapcodes\u001b[0m\u001b[1;33m)\u001b[0m\u001b[1;33m]\u001b[0m \u001b[1;33m=\u001b[0m \u001b[0mmapfig\u001b[0m\u001b[1;33m\u001b[0m\u001b[1;33m\u001b[0m\u001b[0m\n\u001b[0;32m     17\u001b[0m \u001b[1;33m\u001b[0m\u001b[0m\n",
      "\u001b[1;32mc:\\users\\lemaire\\documents\\repositories\\pysonic\\PySONIC\\plt\\actmap.py\u001b[0m in \u001b[0;36mrender\u001b[1;34m(self, zscale, **kwargs)\u001b[0m\n\u001b[0;32m    410\u001b[0m \u001b[1;33m\u001b[0m\u001b[0m\n\u001b[0;32m    411\u001b[0m     \u001b[1;32mdef\u001b[0m \u001b[0mrender\u001b[0m\u001b[1;33m(\u001b[0m\u001b[0mself\u001b[0m\u001b[1;33m,\u001b[0m \u001b[0mzscale\u001b[0m\u001b[1;33m=\u001b[0m\u001b[1;34m'log'\u001b[0m\u001b[1;33m,\u001b[0m \u001b[1;33m**\u001b[0m\u001b[0mkwargs\u001b[0m\u001b[1;33m)\u001b[0m\u001b[1;33m:\u001b[0m\u001b[1;33m\u001b[0m\u001b[1;33m\u001b[0m\u001b[0m\n\u001b[1;32m--> 412\u001b[1;33m         \u001b[1;32mreturn\u001b[0m \u001b[0msuper\u001b[0m\u001b[1;33m(\u001b[0m\u001b[1;33m)\u001b[0m\u001b[1;33m.\u001b[0m\u001b[0mrender\u001b[0m\u001b[1;33m(\u001b[0m\u001b[0mzscale\u001b[0m\u001b[1;33m=\u001b[0m\u001b[0mzscale\u001b[0m\u001b[1;33m,\u001b[0m \u001b[1;33m**\u001b[0m\u001b[0mkwargs\u001b[0m\u001b[1;33m)\u001b[0m\u001b[1;33m\u001b[0m\u001b[1;33m\u001b[0m\u001b[0m\n\u001b[0m\u001b[0;32m    413\u001b[0m \u001b[1;33m\u001b[0m\u001b[0m\n\u001b[0;32m    414\u001b[0m \u001b[1;33m\u001b[0m\u001b[0m\n",
      "\u001b[1;32mc:\\users\\lemaire\\documents\\repositories\\pysonic\\PySONIC\\plt\\actmap.py\u001b[0m in \u001b[0;36mrender\u001b[1;34m(self, yscale, thresholds, mpi, **kwargs)\u001b[0m\n\u001b[0;32m    386\u001b[0m         \u001b[0mfig\u001b[0m \u001b[1;33m=\u001b[0m \u001b[0msuper\u001b[0m\u001b[1;33m(\u001b[0m\u001b[1;33m)\u001b[0m\u001b[1;33m.\u001b[0m\u001b[0mrender\u001b[0m\u001b[1;33m(\u001b[0m\u001b[0myscale\u001b[0m\u001b[1;33m=\u001b[0m\u001b[0myscale\u001b[0m\u001b[1;33m,\u001b[0m \u001b[1;33m**\u001b[0m\u001b[0mkwargs\u001b[0m\u001b[1;33m)\u001b[0m\u001b[1;33m\u001b[0m\u001b[1;33m\u001b[0m\u001b[0m\n\u001b[0;32m    387\u001b[0m         \u001b[1;32mif\u001b[0m \u001b[0mthresholds\u001b[0m\u001b[1;33m:\u001b[0m\u001b[1;33m\u001b[0m\u001b[1;33m\u001b[0m\u001b[0m\n\u001b[1;32m--> 388\u001b[1;33m             \u001b[0mself\u001b[0m\u001b[1;33m.\u001b[0m\u001b[0maddThresholdCurve\u001b[0m\u001b[1;33m(\u001b[0m\u001b[0mfig\u001b[0m\u001b[1;33m.\u001b[0m\u001b[0maxes\u001b[0m\u001b[1;33m[\u001b[0m\u001b[1;36m0\u001b[0m\u001b[1;33m]\u001b[0m\u001b[1;33m,\u001b[0m \u001b[0mfs\u001b[0m\u001b[1;33m=\u001b[0m\u001b[1;36m8\u001b[0m\u001b[1;33m,\u001b[0m \u001b[0mmpi\u001b[0m\u001b[1;33m=\u001b[0m\u001b[0mmpi\u001b[0m\u001b[1;33m)\u001b[0m\u001b[1;33m\u001b[0m\u001b[1;33m\u001b[0m\u001b[0m\n\u001b[0m\u001b[0;32m    389\u001b[0m         \u001b[1;32mreturn\u001b[0m \u001b[0mfig\u001b[0m\u001b[1;33m\u001b[0m\u001b[1;33m\u001b[0m\u001b[0m\n\u001b[0;32m    390\u001b[0m \u001b[1;33m\u001b[0m\u001b[0m\n",
      "\u001b[1;32mc:\\users\\lemaire\\documents\\repositories\\pysonic\\PySONIC\\plt\\actmap.py\u001b[0m in \u001b[0;36maddThresholdCurve\u001b[1;34m(self, ax, fs, mpi)\u001b[0m\n\u001b[0;32m    355\u001b[0m             \u001b[0mprint\u001b[0m\u001b[1;33m(\u001b[0m\u001b[0mitem\u001b[0m\u001b[1;33m)\u001b[0m\u001b[1;33m\u001b[0m\u001b[1;33m\u001b[0m\u001b[0m\n\u001b[0;32m    356\u001b[0m         \u001b[0mbatch\u001b[0m \u001b[1;33m=\u001b[0m \u001b[0mBatch\u001b[0m\u001b[1;33m(\u001b[0m\u001b[0mself\u001b[0m\u001b[1;33m.\u001b[0m\u001b[0mnbls\u001b[0m\u001b[1;33m.\u001b[0m\u001b[0mtitrate\u001b[0m\u001b[1;33m,\u001b[0m \u001b[0mqueue\u001b[0m\u001b[1;33m)\u001b[0m\u001b[1;33m\u001b[0m\u001b[1;33m\u001b[0m\u001b[0m\n\u001b[1;32m--> 357\u001b[1;33m         \u001b[0mAthrs\u001b[0m \u001b[1;33m=\u001b[0m \u001b[0mnp\u001b[0m\u001b[1;33m.\u001b[0m\u001b[0marray\u001b[0m\u001b[1;33m(\u001b[0m\u001b[0mbatch\u001b[0m\u001b[1;33m.\u001b[0m\u001b[0mrun\u001b[0m\u001b[1;33m(\u001b[0m\u001b[0mmpi\u001b[0m\u001b[1;33m=\u001b[0m\u001b[0mmpi\u001b[0m\u001b[1;33m,\u001b[0m \u001b[0mloglevel\u001b[0m\u001b[1;33m=\u001b[0m\u001b[0mlogger\u001b[0m\u001b[1;33m.\u001b[0m\u001b[0mlevel\u001b[0m\u001b[1;33m)\u001b[0m\u001b[1;33m)\u001b[0m\u001b[1;33m\u001b[0m\u001b[1;33m\u001b[0m\u001b[0m\n\u001b[0m\u001b[0;32m    358\u001b[0m         ax.plot(self.xvec * self.xfactor, Athrs * self.yfactor, '-', color='#F26522', linewidth=3,\n\u001b[0;32m    359\u001b[0m                 label='threshold amplitudes')\n",
      "\u001b[1;32mc:\\users\\lemaire\\documents\\repositories\\pysonic\\PySONIC\\core\\batches.py\u001b[0m in \u001b[0;36mrun\u001b[1;34m(self, mpi, loglevel)\u001b[0m\n\u001b[0;32m    144\u001b[0m             \u001b[1;32mfor\u001b[0m \u001b[0mparams\u001b[0m \u001b[1;32min\u001b[0m \u001b[0mself\u001b[0m\u001b[1;33m.\u001b[0m\u001b[0mqueue\u001b[0m\u001b[1;33m:\u001b[0m\u001b[1;33m\u001b[0m\u001b[1;33m\u001b[0m\u001b[0m\n\u001b[0;32m    145\u001b[0m                 \u001b[0margs\u001b[0m\u001b[1;33m,\u001b[0m \u001b[0mkwargs\u001b[0m \u001b[1;33m=\u001b[0m \u001b[0mself\u001b[0m\u001b[1;33m.\u001b[0m\u001b[0mresolve\u001b[0m\u001b[1;33m(\u001b[0m\u001b[0mparams\u001b[0m\u001b[1;33m)\u001b[0m\u001b[1;33m\u001b[0m\u001b[1;33m\u001b[0m\u001b[0m\n\u001b[1;32m--> 146\u001b[1;33m                 \u001b[0moutputs\u001b[0m\u001b[1;33m.\u001b[0m\u001b[0mappend\u001b[0m\u001b[1;33m(\u001b[0m\u001b[0mself\u001b[0m\u001b[1;33m.\u001b[0m\u001b[0mfunc\u001b[0m\u001b[1;33m(\u001b[0m\u001b[1;33m*\u001b[0m\u001b[0margs\u001b[0m\u001b[1;33m,\u001b[0m \u001b[1;33m**\u001b[0m\u001b[0mkwargs\u001b[0m\u001b[1;33m)\u001b[0m\u001b[1;33m)\u001b[0m\u001b[1;33m\u001b[0m\u001b[1;33m\u001b[0m\u001b[0m\n\u001b[0m\u001b[0;32m    147\u001b[0m         \u001b[1;32mreturn\u001b[0m \u001b[0moutputs\u001b[0m\u001b[1;33m\u001b[0m\u001b[1;33m\u001b[0m\u001b[0m\n\u001b[0;32m    148\u001b[0m \u001b[1;33m\u001b[0m\u001b[0m\n",
      "\u001b[1;32mc:\\users\\lemaire\\documents\\repositories\\pysonic\\PySONIC\\utils.py\u001b[0m in \u001b[0;36mwrapper\u001b[1;34m(*args, **kwargs)\u001b[0m\n\u001b[0;32m    455\u001b[0m \u001b[1;33m\u001b[0m\u001b[0m\n\u001b[0;32m    456\u001b[0m             \u001b[1;31m# Otherwise, compute output and log it into file before returning\u001b[0m\u001b[1;33m\u001b[0m\u001b[1;33m\u001b[0m\u001b[1;33m\u001b[0m\u001b[0m\n\u001b[1;32m--> 457\u001b[1;33m             \u001b[0mout\u001b[0m \u001b[1;33m=\u001b[0m \u001b[0mfunc\u001b[0m\u001b[1;33m(\u001b[0m\u001b[1;33m*\u001b[0m\u001b[0margs\u001b[0m\u001b[1;33m,\u001b[0m \u001b[1;33m**\u001b[0m\u001b[0mkwargs\u001b[0m\u001b[1;33m)\u001b[0m\u001b[1;33m\u001b[0m\u001b[1;33m\u001b[0m\u001b[0m\n\u001b[0m\u001b[0;32m    458\u001b[0m             \u001b[0mlock\u001b[0m \u001b[1;33m=\u001b[0m \u001b[0mlockfile\u001b[0m\u001b[1;33m.\u001b[0m\u001b[0mFileLock\u001b[0m\u001b[1;33m(\u001b[0m\u001b[0mfpath\u001b[0m\u001b[1;33m)\u001b[0m\u001b[1;33m\u001b[0m\u001b[1;33m\u001b[0m\u001b[0m\n\u001b[0;32m    459\u001b[0m             \u001b[0mlock\u001b[0m\u001b[1;33m.\u001b[0m\u001b[0macquire\u001b[0m\u001b[1;33m(\u001b[0m\u001b[1;33m)\u001b[0m\u001b[1;33m\u001b[0m\u001b[1;33m\u001b[0m\u001b[0m\n",
      "\u001b[1;32mc:\\users\\lemaire\\documents\\repositories\\pysonic\\PySONIC\\core\\nbls.py\u001b[0m in \u001b[0;36mtitrate\u001b[1;34m(self, drive, pp, fs, method, qss_vars, xfunc, Arange)\u001b[0m\n\u001b[0;32m    530\u001b[0m         '''\n\u001b[0;32m    531\u001b[0m         return super().titrate(drive, pp, fs=fs, method=method, qss_vars=qss_vars,\n\u001b[1;32m--> 532\u001b[1;33m                                xfunc=xfunc, Arange=Arange)\n\u001b[0m\u001b[0;32m    533\u001b[0m \u001b[1;33m\u001b[0m\u001b[0m\n\u001b[0;32m    534\u001b[0m     \u001b[1;32mdef\u001b[0m \u001b[0mgetQuasiSteadyStates\u001b[0m\u001b[1;33m(\u001b[0m\u001b[0mself\u001b[0m\u001b[1;33m,\u001b[0m \u001b[0mf\u001b[0m\u001b[1;33m,\u001b[0m \u001b[0mamps\u001b[0m\u001b[1;33m=\u001b[0m\u001b[1;32mNone\u001b[0m\u001b[1;33m,\u001b[0m \u001b[0mcharges\u001b[0m\u001b[1;33m=\u001b[0m\u001b[1;32mNone\u001b[0m\u001b[1;33m,\u001b[0m \u001b[0mDC\u001b[0m\u001b[1;33m=\u001b[0m\u001b[1;36m1.0\u001b[0m\u001b[1;33m,\u001b[0m \u001b[0msqueeze_output\u001b[0m\u001b[1;33m=\u001b[0m\u001b[1;32mFalse\u001b[0m\u001b[1;33m)\u001b[0m\u001b[1;33m:\u001b[0m\u001b[1;33m\u001b[0m\u001b[1;33m\u001b[0m\u001b[0m\n",
      "\u001b[1;32mc:\\users\\lemaire\\documents\\repositories\\pysonic\\PySONIC\\core\\model.py\u001b[0m in \u001b[0;36mtitrate\u001b[1;34m(self, *args, **kwargs)\u001b[0m\n\u001b[0;32m    183\u001b[0m \u001b[1;33m\u001b[0m\u001b[0m\n\u001b[0;32m    184\u001b[0m     \u001b[1;32mdef\u001b[0m \u001b[0mtitrate\u001b[0m\u001b[1;33m(\u001b[0m\u001b[0mself\u001b[0m\u001b[1;33m,\u001b[0m \u001b[1;33m*\u001b[0m\u001b[0margs\u001b[0m\u001b[1;33m,\u001b[0m \u001b[1;33m**\u001b[0m\u001b[0mkwargs\u001b[0m\u001b[1;33m)\u001b[0m\u001b[1;33m:\u001b[0m\u001b[1;33m\u001b[0m\u001b[1;33m\u001b[0m\u001b[0m\n\u001b[1;32m--> 185\u001b[1;33m         \u001b[1;32mreturn\u001b[0m \u001b[0mtitrate\u001b[0m\u001b[1;33m(\u001b[0m\u001b[0mself\u001b[0m\u001b[1;33m,\u001b[0m \u001b[1;33m*\u001b[0m\u001b[0margs\u001b[0m\u001b[1;33m,\u001b[0m \u001b[1;33m**\u001b[0m\u001b[0mkwargs\u001b[0m\u001b[1;33m)\u001b[0m\u001b[1;33m\u001b[0m\u001b[1;33m\u001b[0m\u001b[0m\n\u001b[0m\u001b[0;32m    186\u001b[0m \u001b[1;33m\u001b[0m\u001b[0m\n\u001b[0;32m    187\u001b[0m     \u001b[1;33m@\u001b[0m\u001b[0mstaticmethod\u001b[0m\u001b[1;33m\u001b[0m\u001b[1;33m\u001b[0m\u001b[0m\n",
      "\u001b[1;32mc:\\users\\lemaire\\documents\\repositories\\pysonic\\PySONIC\\threshold.py\u001b[0m in \u001b[0;36mtitrate\u001b[1;34m(model, drive, pp, **kwargs)\u001b[0m\n\u001b[0;32m    233\u001b[0m         \u001b[0mrel_eps_thr\u001b[0m\u001b[1;33m=\u001b[0m\u001b[0mdrive\u001b[0m\u001b[1;33m.\u001b[0m\u001b[0mxvar_rel_thr\u001b[0m\u001b[1;33m,\u001b[0m\u001b[1;33m\u001b[0m\u001b[1;33m\u001b[0m\u001b[0m\n\u001b[0;32m    234\u001b[0m         \u001b[0meps_thr\u001b[0m\u001b[1;33m=\u001b[0m\u001b[0mdrive\u001b[0m\u001b[1;33m.\u001b[0m\u001b[0mxvar_thr\u001b[0m\u001b[1;33m,\u001b[0m\u001b[1;33m\u001b[0m\u001b[1;33m\u001b[0m\u001b[0m\n\u001b[1;32m--> 235\u001b[1;33m         precheck=drive.xvar_precheck)\n\u001b[0m",
      "\u001b[1;32mc:\\users\\lemaire\\documents\\repositories\\pysonic\\PySONIC\\threshold.py\u001b[0m in \u001b[0;36mthreshold\u001b[1;34m(feval, xbounds, x0, eps_thr, rel_eps_thr, max_nit, precheck, fbound, output_history)\u001b[0m\n\u001b[0;32m     95\u001b[0m         \u001b[1;31m# if evaluation indicates no threshold within interval\u001b[0m\u001b[1;33m\u001b[0m\u001b[1;33m\u001b[0m\u001b[1;33m\u001b[0m\u001b[0m\n\u001b[0;32m     96\u001b[0m         \u001b[1;32mif\u001b[0m \u001b[0mprecheck\u001b[0m\u001b[1;33m:\u001b[0m\u001b[1;33m\u001b[0m\u001b[1;33m\u001b[0m\u001b[0m\n\u001b[1;32m---> 97\u001b[1;33m             \u001b[0mcheckAtBound\u001b[0m\u001b[1;33m(\u001b[0m\u001b[1;33m)\u001b[0m\u001b[1;33m\u001b[0m\u001b[1;33m\u001b[0m\u001b[0m\n\u001b[0m\u001b[0;32m     98\u001b[0m \u001b[1;33m\u001b[0m\u001b[0m\n\u001b[0;32m     99\u001b[0m         \u001b[1;31m# Pre-bounding: refine search interval by either multiplying or dividing x\u001b[0m\u001b[1;33m\u001b[0m\u001b[1;33m\u001b[0m\u001b[1;33m\u001b[0m\u001b[0m\n",
      "\u001b[1;32mc:\\users\\lemaire\\documents\\repositories\\pysonic\\PySONIC\\threshold.py\u001b[0m in \u001b[0;36mcheckAtBound\u001b[1;34m()\u001b[0m\n\u001b[0;32m     60\u001b[0m     \u001b[1;32mdef\u001b[0m \u001b[0mcheckAtBound\u001b[0m\u001b[1;33m(\u001b[0m\u001b[1;33m)\u001b[0m\u001b[1;33m:\u001b[0m\u001b[1;33m\u001b[0m\u001b[1;33m\u001b[0m\u001b[0m\n\u001b[0;32m     61\u001b[0m         \u001b[0mxeval\u001b[0m \u001b[1;33m=\u001b[0m \u001b[0mlb\u001b[0m \u001b[1;32mif\u001b[0m \u001b[0mis_above\u001b[0m\u001b[1;33m[\u001b[0m\u001b[1;33m-\u001b[0m\u001b[1;36m1\u001b[0m\u001b[1;33m]\u001b[0m \u001b[1;32melse\u001b[0m \u001b[0mub\u001b[0m\u001b[1;33m\u001b[0m\u001b[1;33m\u001b[0m\u001b[0m\n\u001b[1;32m---> 62\u001b[1;33m         \u001b[1;32mif\u001b[0m \u001b[0mfeval\u001b[0m\u001b[1;33m(\u001b[0m\u001b[0mxeval\u001b[0m\u001b[1;33m)\u001b[0m \u001b[1;33m==\u001b[0m \u001b[0mis_above\u001b[0m\u001b[1;33m[\u001b[0m\u001b[1;33m-\u001b[0m\u001b[1;36m1\u001b[0m\u001b[1;33m]\u001b[0m\u001b[1;33m:\u001b[0m\u001b[1;33m\u001b[0m\u001b[1;33m\u001b[0m\u001b[0m\n\u001b[0m\u001b[0;32m     63\u001b[0m             \u001b[1;32mraise\u001b[0m \u001b[0mOutOfBoundsError\u001b[0m\u001b[1;33m(\u001b[0m\u001b[0mxbounds\u001b[0m\u001b[1;33m)\u001b[0m\u001b[1;33m\u001b[0m\u001b[1;33m\u001b[0m\u001b[0m\n\u001b[0;32m     64\u001b[0m \u001b[1;33m\u001b[0m\u001b[0m\n",
      "\u001b[1;32mc:\\users\\lemaire\\documents\\repositories\\pysonic\\PySONIC\\threshold.py\u001b[0m in \u001b[0;36m<lambda>\u001b[1;34m(x)\u001b[0m\n\u001b[0;32m    228\u001b[0m \u001b[1;33m\u001b[0m\u001b[0m\n\u001b[0;32m    229\u001b[0m     return threshold(\n\u001b[1;32m--> 230\u001b[1;33m         \u001b[1;32mlambda\u001b[0m \u001b[0mx\u001b[0m\u001b[1;33m:\u001b[0m \u001b[0mxfunc\u001b[0m\u001b[1;33m(\u001b[0m\u001b[0mmodel\u001b[0m\u001b[1;33m.\u001b[0m\u001b[0msimulate\u001b[0m\u001b[1;33m(\u001b[0m\u001b[0mdrive\u001b[0m\u001b[1;33m.\u001b[0m\u001b[0mupdatedX\u001b[0m\u001b[1;33m(\u001b[0m\u001b[0mx\u001b[0m\u001b[1;33m)\u001b[0m\u001b[1;33m,\u001b[0m \u001b[0mpp\u001b[0m\u001b[1;33m,\u001b[0m \u001b[1;33m**\u001b[0m\u001b[0mkwargs\u001b[0m\u001b[1;33m)\u001b[0m\u001b[1;33m[\u001b[0m\u001b[1;36m0\u001b[0m\u001b[1;33m]\u001b[0m\u001b[1;33m)\u001b[0m\u001b[1;33m,\u001b[0m\u001b[1;33m\u001b[0m\u001b[1;33m\u001b[0m\u001b[0m\n\u001b[0m\u001b[0;32m    231\u001b[0m         \u001b[0mArange\u001b[0m\u001b[1;33m,\u001b[0m\u001b[1;33m\u001b[0m\u001b[1;33m\u001b[0m\u001b[0m\n\u001b[0;32m    232\u001b[0m         \u001b[0mx0\u001b[0m\u001b[1;33m=\u001b[0m\u001b[0mdrive\u001b[0m\u001b[1;33m.\u001b[0m\u001b[0mxvar_initial\u001b[0m\u001b[1;33m,\u001b[0m\u001b[1;33m\u001b[0m\u001b[1;33m\u001b[0m\u001b[0m\n",
      "\u001b[1;32mc:\\users\\lemaire\\documents\\repositories\\pysonic\\PySONIC\\core\\model.py\u001b[0m in \u001b[0;36mwrapper\u001b[1;34m(self, *args, **kwargs)\u001b[0m\n\u001b[0;32m    151\u001b[0m         \u001b[1;33m@\u001b[0m\u001b[0mwraps\u001b[0m\u001b[1;33m(\u001b[0m\u001b[0msimfunc\u001b[0m\u001b[1;33m)\u001b[0m\u001b[1;33m\u001b[0m\u001b[1;33m\u001b[0m\u001b[0m\n\u001b[0;32m    152\u001b[0m         \u001b[1;32mdef\u001b[0m \u001b[0mwrapper\u001b[0m\u001b[1;33m(\u001b[0m\u001b[0mself\u001b[0m\u001b[1;33m,\u001b[0m \u001b[1;33m*\u001b[0m\u001b[0margs\u001b[0m\u001b[1;33m,\u001b[0m \u001b[1;33m**\u001b[0m\u001b[0mkwargs\u001b[0m\u001b[1;33m)\u001b[0m\u001b[1;33m:\u001b[0m\u001b[1;33m\u001b[0m\u001b[1;33m\u001b[0m\u001b[0m\n\u001b[1;32m--> 153\u001b[1;33m             \u001b[0mout\u001b[0m \u001b[1;33m=\u001b[0m \u001b[0msimfunc\u001b[0m\u001b[1;33m(\u001b[0m\u001b[0mself\u001b[0m\u001b[1;33m,\u001b[0m \u001b[1;33m*\u001b[0m\u001b[0margs\u001b[0m\u001b[1;33m,\u001b[0m \u001b[1;33m**\u001b[0m\u001b[0mkwargs\u001b[0m\u001b[1;33m)\u001b[0m\u001b[1;33m\u001b[0m\u001b[1;33m\u001b[0m\u001b[0m\n\u001b[0m\u001b[0;32m    154\u001b[0m             \u001b[1;32mif\u001b[0m \u001b[0mout\u001b[0m \u001b[1;32mis\u001b[0m \u001b[1;32mNone\u001b[0m\u001b[1;33m:\u001b[0m\u001b[1;33m\u001b[0m\u001b[1;33m\u001b[0m\u001b[0m\n\u001b[0;32m    155\u001b[0m                 \u001b[1;32mreturn\u001b[0m \u001b[1;32mNone\u001b[0m\u001b[1;33m\u001b[0m\u001b[1;33m\u001b[0m\u001b[0m\n",
      "\u001b[1;32mc:\\users\\lemaire\\documents\\repositories\\pysonic\\PySONIC\\core\\model.py\u001b[0m in \u001b[0;36mwrapper\u001b[1;34m(self, *args, **kwargs)\u001b[0m\n\u001b[0;32m    211\u001b[0m \u001b[1;33m\u001b[0m\u001b[0m\n\u001b[0;32m    212\u001b[0m             \u001b[1;31m# Execute simulation function\u001b[0m\u001b[1;33m\u001b[0m\u001b[1;33m\u001b[0m\u001b[1;33m\u001b[0m\u001b[0m\n\u001b[1;32m--> 213\u001b[1;33m             \u001b[1;32mreturn\u001b[0m \u001b[0msimfunc\u001b[0m\u001b[1;33m(\u001b[0m\u001b[0mself\u001b[0m\u001b[1;33m,\u001b[0m \u001b[1;33m*\u001b[0m\u001b[0margs\u001b[0m\u001b[1;33m,\u001b[0m \u001b[1;33m**\u001b[0m\u001b[0mkwargs\u001b[0m\u001b[1;33m)\u001b[0m\u001b[1;33m\u001b[0m\u001b[1;33m\u001b[0m\u001b[0m\n\u001b[0m\u001b[0;32m    214\u001b[0m \u001b[1;33m\u001b[0m\u001b[0m\n\u001b[0;32m    215\u001b[0m         \u001b[1;32mreturn\u001b[0m \u001b[0mwrapper\u001b[0m\u001b[1;33m\u001b[0m\u001b[1;33m\u001b[0m\u001b[0m\n",
      "\u001b[1;32mc:\\users\\lemaire\\documents\\repositories\\pysonic\\PySONIC\\core\\model.py\u001b[0m in \u001b[0;36mwrapper\u001b[1;34m(self, *args, **kwargs)\u001b[0m\n\u001b[0;32m    139\u001b[0m         \u001b[1;33m@\u001b[0m\u001b[0mwraps\u001b[0m\u001b[1;33m(\u001b[0m\u001b[0msimfunc\u001b[0m\u001b[1;33m)\u001b[0m\u001b[1;33m\u001b[0m\u001b[1;33m\u001b[0m\u001b[0m\n\u001b[0;32m    140\u001b[0m         \u001b[1;32mdef\u001b[0m \u001b[0mwrapper\u001b[0m\u001b[1;33m(\u001b[0m\u001b[0mself\u001b[0m\u001b[1;33m,\u001b[0m \u001b[1;33m*\u001b[0m\u001b[0margs\u001b[0m\u001b[1;33m,\u001b[0m \u001b[1;33m**\u001b[0m\u001b[0mkwargs\u001b[0m\u001b[1;33m)\u001b[0m\u001b[1;33m:\u001b[0m\u001b[1;33m\u001b[0m\u001b[1;33m\u001b[0m\u001b[0m\n\u001b[1;32m--> 141\u001b[1;33m             \u001b[0mdata\u001b[0m\u001b[1;33m,\u001b[0m \u001b[0mtcomp\u001b[0m \u001b[1;33m=\u001b[0m \u001b[0mtimer\u001b[0m\u001b[1;33m(\u001b[0m\u001b[0msimfunc\u001b[0m\u001b[1;33m)\u001b[0m\u001b[1;33m(\u001b[0m\u001b[0mself\u001b[0m\u001b[1;33m,\u001b[0m \u001b[1;33m*\u001b[0m\u001b[0margs\u001b[0m\u001b[1;33m,\u001b[0m \u001b[1;33m**\u001b[0m\u001b[0mkwargs\u001b[0m\u001b[1;33m)\u001b[0m\u001b[1;33m\u001b[0m\u001b[1;33m\u001b[0m\u001b[0m\n\u001b[0m\u001b[0;32m    142\u001b[0m             \u001b[0mlogger\u001b[0m\u001b[1;33m.\u001b[0m\u001b[0mdebug\u001b[0m\u001b[1;33m(\u001b[0m\u001b[1;34m'completed in %ss'\u001b[0m\u001b[1;33m,\u001b[0m \u001b[0msi_format\u001b[0m\u001b[1;33m(\u001b[0m\u001b[0mtcomp\u001b[0m\u001b[1;33m,\u001b[0m \u001b[1;36m1\u001b[0m\u001b[1;33m)\u001b[0m\u001b[1;33m)\u001b[0m\u001b[1;33m\u001b[0m\u001b[1;33m\u001b[0m\u001b[0m\n\u001b[0;32m    143\u001b[0m             \u001b[0mmeta_dict\u001b[0m \u001b[1;33m=\u001b[0m \u001b[0mgetMeta\u001b[0m\u001b[1;33m(\u001b[0m\u001b[0mself\u001b[0m\u001b[1;33m,\u001b[0m \u001b[0msimfunc\u001b[0m\u001b[1;33m,\u001b[0m \u001b[1;33m*\u001b[0m\u001b[0margs\u001b[0m\u001b[1;33m,\u001b[0m \u001b[1;33m**\u001b[0m\u001b[0mkwargs\u001b[0m\u001b[1;33m)\u001b[0m\u001b[1;33m\u001b[0m\u001b[1;33m\u001b[0m\u001b[0m\n",
      "\u001b[1;32mc:\\users\\lemaire\\documents\\repositories\\pysonic\\PySONIC\\utils.py\u001b[0m in \u001b[0;36mwrapper\u001b[1;34m(*args, **kwargs)\u001b[0m\n\u001b[0;32m    383\u001b[0m     \u001b[1;32mdef\u001b[0m \u001b[0mwrapper\u001b[0m\u001b[1;33m(\u001b[0m\u001b[1;33m*\u001b[0m\u001b[0margs\u001b[0m\u001b[1;33m,\u001b[0m \u001b[1;33m**\u001b[0m\u001b[0mkwargs\u001b[0m\u001b[1;33m)\u001b[0m\u001b[1;33m:\u001b[0m\u001b[1;33m\u001b[0m\u001b[1;33m\u001b[0m\u001b[0m\n\u001b[0;32m    384\u001b[0m         \u001b[0mstart_time\u001b[0m \u001b[1;33m=\u001b[0m \u001b[0mtime\u001b[0m\u001b[1;33m.\u001b[0m\u001b[0mperf_counter\u001b[0m\u001b[1;33m(\u001b[0m\u001b[1;33m)\u001b[0m\u001b[1;33m\u001b[0m\u001b[1;33m\u001b[0m\u001b[0m\n\u001b[1;32m--> 385\u001b[1;33m         \u001b[0mvalue\u001b[0m \u001b[1;33m=\u001b[0m \u001b[0mfunc\u001b[0m\u001b[1;33m(\u001b[0m\u001b[1;33m*\u001b[0m\u001b[0margs\u001b[0m\u001b[1;33m,\u001b[0m \u001b[1;33m**\u001b[0m\u001b[0mkwargs\u001b[0m\u001b[1;33m)\u001b[0m\u001b[1;33m\u001b[0m\u001b[1;33m\u001b[0m\u001b[0m\n\u001b[0m\u001b[0;32m    386\u001b[0m         \u001b[0mend_time\u001b[0m \u001b[1;33m=\u001b[0m \u001b[0mtime\u001b[0m\u001b[1;33m.\u001b[0m\u001b[0mperf_counter\u001b[0m\u001b[1;33m(\u001b[0m\u001b[1;33m)\u001b[0m\u001b[1;33m\u001b[0m\u001b[1;33m\u001b[0m\u001b[0m\n\u001b[0;32m    387\u001b[0m         \u001b[0mrun_time\u001b[0m \u001b[1;33m=\u001b[0m \u001b[0mend_time\u001b[0m \u001b[1;33m-\u001b[0m \u001b[0mstart_time\u001b[0m\u001b[1;33m\u001b[0m\u001b[1;33m\u001b[0m\u001b[0m\n",
      "\u001b[1;32mc:\\users\\lemaire\\documents\\repositories\\pysonic\\PySONIC\\core\\model.py\u001b[0m in \u001b[0;36mwrapper\u001b[1;34m(self, *args, **kwargs)\u001b[0m\n\u001b[0;32m    179\u001b[0m             \u001b[0margs\u001b[0m\u001b[1;33m,\u001b[0m \u001b[0mkwargs\u001b[0m \u001b[1;33m=\u001b[0m \u001b[0malignWithMethodDef\u001b[0m\u001b[1;33m(\u001b[0m\u001b[0msimfunc\u001b[0m\u001b[1;33m,\u001b[0m \u001b[0margs\u001b[0m\u001b[1;33m,\u001b[0m \u001b[0mkwargs\u001b[0m\u001b[1;33m)\u001b[0m\u001b[1;33m\u001b[0m\u001b[1;33m\u001b[0m\u001b[0m\n\u001b[0;32m    180\u001b[0m             \u001b[0mlogger\u001b[0m\u001b[1;33m.\u001b[0m\u001b[0minfo\u001b[0m\u001b[1;33m(\u001b[0m\u001b[0mself\u001b[0m\u001b[1;33m.\u001b[0m\u001b[0mdesc\u001b[0m\u001b[1;33m(\u001b[0m\u001b[0mgetMeta\u001b[0m\u001b[1;33m(\u001b[0m\u001b[0mself\u001b[0m\u001b[1;33m,\u001b[0m \u001b[0msimfunc\u001b[0m\u001b[1;33m,\u001b[0m \u001b[1;33m*\u001b[0m\u001b[0margs\u001b[0m\u001b[1;33m,\u001b[0m \u001b[1;33m**\u001b[0m\u001b[0mkwargs\u001b[0m\u001b[1;33m)\u001b[0m\u001b[1;33m)\u001b[0m\u001b[1;33m)\u001b[0m\u001b[1;33m\u001b[0m\u001b[1;33m\u001b[0m\u001b[0m\n\u001b[1;32m--> 181\u001b[1;33m             \u001b[1;32mreturn\u001b[0m \u001b[0msimfunc\u001b[0m\u001b[1;33m(\u001b[0m\u001b[0mself\u001b[0m\u001b[1;33m,\u001b[0m \u001b[1;33m*\u001b[0m\u001b[0margs\u001b[0m\u001b[1;33m,\u001b[0m \u001b[1;33m**\u001b[0m\u001b[0mkwargs\u001b[0m\u001b[1;33m)\u001b[0m\u001b[1;33m\u001b[0m\u001b[1;33m\u001b[0m\u001b[0m\n\u001b[0m\u001b[0;32m    182\u001b[0m         \u001b[1;32mreturn\u001b[0m \u001b[0mwrapper\u001b[0m\u001b[1;33m\u001b[0m\u001b[1;33m\u001b[0m\u001b[0m\n\u001b[0;32m    183\u001b[0m \u001b[1;33m\u001b[0m\u001b[0m\n",
      "\u001b[1;32mc:\\users\\lemaire\\documents\\repositories\\pysonic\\PySONIC\\core\\model.py\u001b[0m in \u001b[0;36mwrapper\u001b[1;34m(self, *args, **kwargs)\u001b[0m\n\u001b[0;32m    168\u001b[0m             \u001b[0margs\u001b[0m\u001b[1;33m,\u001b[0m \u001b[0mkwargs\u001b[0m \u001b[1;33m=\u001b[0m \u001b[0malignWithMethodDef\u001b[0m\u001b[1;33m(\u001b[0m\u001b[0msimfunc\u001b[0m\u001b[1;33m,\u001b[0m \u001b[0margs\u001b[0m\u001b[1;33m,\u001b[0m \u001b[0mkwargs\u001b[0m\u001b[1;33m)\u001b[0m\u001b[1;33m\u001b[0m\u001b[1;33m\u001b[0m\u001b[0m\n\u001b[0;32m    169\u001b[0m             \u001b[0mself\u001b[0m\u001b[1;33m.\u001b[0m\u001b[0mcheckInputs\u001b[0m\u001b[1;33m(\u001b[0m\u001b[1;33m*\u001b[0m\u001b[0margs\u001b[0m\u001b[1;33m,\u001b[0m \u001b[1;33m*\u001b[0m\u001b[0mlist\u001b[0m\u001b[1;33m(\u001b[0m\u001b[0mkwargs\u001b[0m\u001b[1;33m.\u001b[0m\u001b[0mvalues\u001b[0m\u001b[1;33m(\u001b[0m\u001b[1;33m)\u001b[0m\u001b[1;33m)\u001b[0m\u001b[1;33m)\u001b[0m\u001b[1;33m\u001b[0m\u001b[1;33m\u001b[0m\u001b[0m\n\u001b[1;32m--> 170\u001b[1;33m             \u001b[1;32mreturn\u001b[0m \u001b[0msimfunc\u001b[0m\u001b[1;33m(\u001b[0m\u001b[0mself\u001b[0m\u001b[1;33m,\u001b[0m \u001b[1;33m*\u001b[0m\u001b[0margs\u001b[0m\u001b[1;33m,\u001b[0m \u001b[1;33m**\u001b[0m\u001b[0mkwargs\u001b[0m\u001b[1;33m)\u001b[0m\u001b[1;33m\u001b[0m\u001b[1;33m\u001b[0m\u001b[0m\n\u001b[0m\u001b[0;32m    171\u001b[0m \u001b[1;33m\u001b[0m\u001b[0m\n\u001b[0;32m    172\u001b[0m         \u001b[1;32mreturn\u001b[0m \u001b[0mwrapper\u001b[0m\u001b[1;33m\u001b[0m\u001b[1;33m\u001b[0m\u001b[0m\n",
      "\u001b[1;32mc:\\users\\lemaire\\documents\\repositories\\pysonic\\PySONIC\\core\\nbls.py\u001b[0m in \u001b[0;36msimulate\u001b[1;34m(self, drive, pp, fs, method, qss_vars)\u001b[0m\n\u001b[0;32m    495\u001b[0m         \u001b[1;32mif\u001b[0m \u001b[0mmethod\u001b[0m \u001b[1;33m==\u001b[0m \u001b[1;34m'sonic'\u001b[0m\u001b[1;33m:\u001b[0m\u001b[1;33m\u001b[0m\u001b[1;33m\u001b[0m\u001b[0m\n\u001b[0;32m    496\u001b[0m             \u001b[0msimargs\u001b[0m\u001b[1;33m.\u001b[0m\u001b[0mappend\u001b[0m\u001b[1;33m(\u001b[0m\u001b[0mqss_vars\u001b[0m\u001b[1;33m)\u001b[0m\u001b[1;33m\u001b[0m\u001b[1;33m\u001b[0m\u001b[0m\n\u001b[1;32m--> 497\u001b[1;33m         \u001b[1;32mreturn\u001b[0m \u001b[0msimfunc\u001b[0m\u001b[1;33m(\u001b[0m\u001b[1;33m*\u001b[0m\u001b[0msimargs\u001b[0m\u001b[1;33m)\u001b[0m\u001b[1;33m\u001b[0m\u001b[1;33m\u001b[0m\u001b[0m\n\u001b[0m\u001b[0;32m    498\u001b[0m \u001b[1;33m\u001b[0m\u001b[0m\n\u001b[0;32m    499\u001b[0m     \u001b[1;32mdef\u001b[0m \u001b[0mdesc\u001b[0m\u001b[1;33m(\u001b[0m\u001b[0mself\u001b[0m\u001b[1;33m,\u001b[0m \u001b[0mmeta\u001b[0m\u001b[1;33m)\u001b[0m\u001b[1;33m:\u001b[0m\u001b[1;33m\u001b[0m\u001b[1;33m\u001b[0m\u001b[0m\n",
      "\u001b[1;32mc:\\users\\lemaire\\documents\\repositories\\pysonic\\PySONIC\\core\\nbls.py\u001b[0m in \u001b[0;36m__simSonic\u001b[1;34m(self, drive, pp, fs, qss_vars, pavg)\u001b[0m\n\u001b[0;32m    382\u001b[0m             \u001b[0my0\u001b[0m\u001b[1;33m,\u001b[0m \u001b[0mpp\u001b[0m\u001b[1;33m.\u001b[0m\u001b[0mstimEvents\u001b[0m\u001b[1;33m(\u001b[0m\u001b[1;33m)\u001b[0m\u001b[1;33m,\u001b[0m \u001b[0mpp\u001b[0m\u001b[1;33m.\u001b[0m\u001b[0mtstop\u001b[0m\u001b[1;33m,\u001b[0m\u001b[1;33m\u001b[0m\u001b[1;33m\u001b[0m\u001b[0m\n\u001b[0;32m    383\u001b[0m             \u001b[0mlog_period\u001b[0m\u001b[1;33m=\u001b[0m\u001b[0mpp\u001b[0m\u001b[1;33m.\u001b[0m\u001b[0mtstop\u001b[0m \u001b[1;33m/\u001b[0m \u001b[1;36m100\u001b[0m \u001b[1;32mif\u001b[0m \u001b[0mpp\u001b[0m\u001b[1;33m.\u001b[0m\u001b[0mtstop\u001b[0m \u001b[1;33m>=\u001b[0m \u001b[1;36m5\u001b[0m \u001b[1;32melse\u001b[0m \u001b[1;32mNone\u001b[0m\u001b[1;33m,\u001b[0m\u001b[1;33m\u001b[0m\u001b[1;33m\u001b[0m\u001b[0m\n\u001b[1;32m--> 384\u001b[1;33m             max_nsamples=MAX_NSAMPLES_EFFECTIVE)\n\u001b[0m\u001b[0;32m    385\u001b[0m \u001b[1;33m\u001b[0m\u001b[0m\n\u001b[0;32m    386\u001b[0m         \u001b[1;31m# Interpolate Vm and QSS variables along charge vector and store them in solution dataframe\u001b[0m\u001b[1;33m\u001b[0m\u001b[1;33m\u001b[0m\u001b[1;33m\u001b[0m\u001b[0m\n",
      "\u001b[1;32mc:\\users\\lemaire\\documents\\repositories\\pysonic\\PySONIC\\core\\solvers.py\u001b[0m in \u001b[0;36m__call__\u001b[1;34m(self, target_dt, max_nsamples, *args, **kwargs)\u001b[0m\n\u001b[0;32m    218\u001b[0m         ''' Specific call method: solve the system, resample solution if needed, and return\n\u001b[0;32m    219\u001b[0m             solution dataframe. '''\n\u001b[1;32m--> 220\u001b[1;33m         \u001b[0mself\u001b[0m\u001b[1;33m.\u001b[0m\u001b[0msolve\u001b[0m\u001b[1;33m(\u001b[0m\u001b[1;33m*\u001b[0m\u001b[0margs\u001b[0m\u001b[1;33m,\u001b[0m \u001b[1;33m**\u001b[0m\u001b[0mkwargs\u001b[0m\u001b[1;33m)\u001b[0m\u001b[1;33m\u001b[0m\u001b[1;33m\u001b[0m\u001b[0m\n\u001b[0m\u001b[0;32m    221\u001b[0m         \u001b[1;32mif\u001b[0m \u001b[0mtarget_dt\u001b[0m \u001b[1;32mis\u001b[0m \u001b[1;32mnot\u001b[0m \u001b[1;32mNone\u001b[0m\u001b[1;33m:\u001b[0m\u001b[1;33m\u001b[0m\u001b[1;33m\u001b[0m\u001b[0m\n\u001b[0;32m    222\u001b[0m             \u001b[0mself\u001b[0m\u001b[1;33m.\u001b[0m\u001b[0mresample\u001b[0m\u001b[1;33m(\u001b[0m\u001b[0mtarget_dt\u001b[0m\u001b[1;33m)\u001b[0m\u001b[1;33m\u001b[0m\u001b[1;33m\u001b[0m\u001b[0m\n",
      "\u001b[1;32mc:\\users\\lemaire\\documents\\repositories\\pysonic\\PySONIC\\core\\solvers.py\u001b[0m in \u001b[0;36msolve\u001b[1;34m(self, y0, events, tstop, log_period, logfunc, **kwargs)\u001b[0m\n\u001b[0;32m    474\u001b[0m             self.integrateUntil(  # integrate until event time\n\u001b[0;32m    475\u001b[0m                 \u001b[0mtevent\u001b[0m\u001b[1;33m,\u001b[0m\u001b[1;33m\u001b[0m\u001b[1;33m\u001b[0m\u001b[0m\n\u001b[1;32m--> 476\u001b[1;33m                 remove_first=i > 0 and events[i - 1][1] == 'log')\n\u001b[0m\u001b[0;32m    477\u001b[0m             \u001b[0mself\u001b[0m\u001b[1;33m.\u001b[0m\u001b[0mfireEvent\u001b[0m\u001b[1;33m(\u001b[0m\u001b[0mxevent\u001b[0m\u001b[1;33m)\u001b[0m  \u001b[1;31m# fire event\u001b[0m\u001b[1;33m\u001b[0m\u001b[1;33m\u001b[0m\u001b[0m\n\u001b[0;32m    478\u001b[0m \u001b[1;33m\u001b[0m\u001b[0m\n",
      "\u001b[1;32mc:\\users\\lemaire\\documents\\repositories\\pysonic\\PySONIC\\core\\solvers.py\u001b[0m in \u001b[0;36mintegrateUntil\u001b[1;34m(self, target_t, remove_first)\u001b[0m\n\u001b[0;32m    165\u001b[0m         \u001b[1;32melse\u001b[0m\u001b[1;33m:\u001b[0m\u001b[1;33m\u001b[0m\u001b[1;33m\u001b[0m\u001b[0m\n\u001b[0;32m    166\u001b[0m             \u001b[0mt\u001b[0m \u001b[1;33m=\u001b[0m \u001b[0mself\u001b[0m\u001b[1;33m.\u001b[0m\u001b[0mgetTimeVector\u001b[0m\u001b[1;33m(\u001b[0m\u001b[0mself\u001b[0m\u001b[1;33m.\u001b[0m\u001b[0mt\u001b[0m\u001b[1;33m[\u001b[0m\u001b[1;33m-\u001b[0m\u001b[1;36m1\u001b[0m\u001b[1;33m]\u001b[0m\u001b[1;33m,\u001b[0m \u001b[0mtarget_t\u001b[0m\u001b[1;33m)\u001b[0m\u001b[1;33m\u001b[0m\u001b[1;33m\u001b[0m\u001b[0m\n\u001b[1;32m--> 167\u001b[1;33m             \u001b[0my\u001b[0m \u001b[1;33m=\u001b[0m \u001b[0modeint\u001b[0m\u001b[1;33m(\u001b[0m\u001b[0mself\u001b[0m\u001b[1;33m.\u001b[0m\u001b[0mdfunc\u001b[0m\u001b[1;33m,\u001b[0m \u001b[0mself\u001b[0m\u001b[1;33m.\u001b[0m\u001b[0my\u001b[0m\u001b[1;33m[\u001b[0m\u001b[1;33m-\u001b[0m\u001b[1;36m1\u001b[0m\u001b[1;33m]\u001b[0m\u001b[1;33m,\u001b[0m \u001b[0mt\u001b[0m\u001b[1;33m,\u001b[0m \u001b[0mtfirst\u001b[0m\u001b[1;33m=\u001b[0m\u001b[1;32mTrue\u001b[0m\u001b[1;33m)\u001b[0m\u001b[1;33m\u001b[0m\u001b[1;33m\u001b[0m\u001b[0m\n\u001b[0m\u001b[0;32m    168\u001b[0m         \u001b[1;32mif\u001b[0m \u001b[0mremove_first\u001b[0m\u001b[1;33m:\u001b[0m\u001b[1;33m\u001b[0m\u001b[1;33m\u001b[0m\u001b[0m\n\u001b[0;32m    169\u001b[0m             \u001b[0mt\u001b[0m\u001b[1;33m,\u001b[0m \u001b[0my\u001b[0m \u001b[1;33m=\u001b[0m \u001b[0mt\u001b[0m\u001b[1;33m[\u001b[0m\u001b[1;36m1\u001b[0m\u001b[1;33m:\u001b[0m\u001b[1;33m]\u001b[0m\u001b[1;33m,\u001b[0m \u001b[0my\u001b[0m\u001b[1;33m[\u001b[0m\u001b[1;36m1\u001b[0m\u001b[1;33m:\u001b[0m\u001b[1;33m]\u001b[0m\u001b[1;33m\u001b[0m\u001b[1;33m\u001b[0m\u001b[0m\n",
      "\u001b[1;32m~\\Anaconda3\\lib\\site-packages\\scipy\\integrate\\odepack.py\u001b[0m in \u001b[0;36modeint\u001b[1;34m(func, y0, t, args, Dfun, col_deriv, full_output, ml, mu, rtol, atol, tcrit, h0, hmax, hmin, ixpr, mxstep, mxhnil, mxordn, mxords, printmessg, tfirst)\u001b[0m\n\u001b[0;32m    242\u001b[0m                              \u001b[0mfull_output\u001b[0m\u001b[1;33m,\u001b[0m \u001b[0mrtol\u001b[0m\u001b[1;33m,\u001b[0m \u001b[0matol\u001b[0m\u001b[1;33m,\u001b[0m \u001b[0mtcrit\u001b[0m\u001b[1;33m,\u001b[0m \u001b[0mh0\u001b[0m\u001b[1;33m,\u001b[0m \u001b[0mhmax\u001b[0m\u001b[1;33m,\u001b[0m \u001b[0mhmin\u001b[0m\u001b[1;33m,\u001b[0m\u001b[1;33m\u001b[0m\u001b[1;33m\u001b[0m\u001b[0m\n\u001b[0;32m    243\u001b[0m                              \u001b[0mixpr\u001b[0m\u001b[1;33m,\u001b[0m \u001b[0mmxstep\u001b[0m\u001b[1;33m,\u001b[0m \u001b[0mmxhnil\u001b[0m\u001b[1;33m,\u001b[0m \u001b[0mmxordn\u001b[0m\u001b[1;33m,\u001b[0m \u001b[0mmxords\u001b[0m\u001b[1;33m,\u001b[0m\u001b[1;33m\u001b[0m\u001b[1;33m\u001b[0m\u001b[0m\n\u001b[1;32m--> 244\u001b[1;33m                              int(bool(tfirst)))\n\u001b[0m\u001b[0;32m    245\u001b[0m     \u001b[1;32mif\u001b[0m \u001b[0moutput\u001b[0m\u001b[1;33m[\u001b[0m\u001b[1;33m-\u001b[0m\u001b[1;36m1\u001b[0m\u001b[1;33m]\u001b[0m \u001b[1;33m<\u001b[0m \u001b[1;36m0\u001b[0m\u001b[1;33m:\u001b[0m\u001b[1;33m\u001b[0m\u001b[1;33m\u001b[0m\u001b[0m\n\u001b[0;32m    246\u001b[0m         \u001b[0mwarning_msg\u001b[0m \u001b[1;33m=\u001b[0m \u001b[0m_msgs\u001b[0m\u001b[1;33m[\u001b[0m\u001b[0moutput\u001b[0m\u001b[1;33m[\u001b[0m\u001b[1;33m-\u001b[0m\u001b[1;36m1\u001b[0m\u001b[1;33m]\u001b[0m\u001b[1;33m]\u001b[0m \u001b[1;33m+\u001b[0m \u001b[1;34m\" Run with full_output = 1 to get quantitative information.\"\u001b[0m\u001b[1;33m\u001b[0m\u001b[1;33m\u001b[0m\u001b[0m\n",
      "\u001b[1;32mc:\\users\\lemaire\\documents\\repositories\\pysonic\\PySONIC\\core\\nbls.py\u001b[0m in \u001b[0;36m<lambda>\u001b[1;34m(t, y)\u001b[0m\n\u001b[0;32m    376\u001b[0m             \u001b[1;32mlambda\u001b[0m \u001b[0mx\u001b[0m\u001b[1;33m:\u001b[0m \u001b[0msetattr\u001b[0m\u001b[1;33m(\u001b[0m\u001b[0msolver\u001b[0m\u001b[1;33m,\u001b[0m \u001b[1;34m'lkp'\u001b[0m\u001b[1;33m,\u001b[0m \u001b[0mlkp\u001b[0m\u001b[1;33m.\u001b[0m\u001b[0mproject\u001b[0m\u001b[1;33m(\u001b[0m\u001b[1;34m'A'\u001b[0m\u001b[1;33m,\u001b[0m \u001b[0mdrive\u001b[0m\u001b[1;33m.\u001b[0m\u001b[0mxvar\u001b[0m \u001b[1;33m*\u001b[0m \u001b[0mx\u001b[0m\u001b[1;33m)\u001b[0m\u001b[1;33m)\u001b[0m\u001b[1;33m,\u001b[0m  \u001b[1;31m# eventfunc\u001b[0m\u001b[1;33m\u001b[0m\u001b[1;33m\u001b[0m\u001b[0m\n\u001b[0;32m    377\u001b[0m             \u001b[0my0\u001b[0m\u001b[1;33m.\u001b[0m\u001b[0mkeys\u001b[0m\u001b[1;33m(\u001b[0m\u001b[1;33m)\u001b[0m\u001b[1;33m,\u001b[0m                                                           \u001b[1;31m# variables list\u001b[0m\u001b[1;33m\u001b[0m\u001b[1;33m\u001b[0m\u001b[0m\n\u001b[1;32m--> 378\u001b[1;33m             \u001b[1;32mlambda\u001b[0m \u001b[0mt\u001b[0m\u001b[1;33m,\u001b[0m \u001b[0my\u001b[0m\u001b[1;33m:\u001b[0m \u001b[0mself\u001b[0m\u001b[1;33m.\u001b[0m\u001b[0meffDerivatives\u001b[0m\u001b[1;33m(\u001b[0m\u001b[0mt\u001b[0m\u001b[1;33m,\u001b[0m \u001b[0my\u001b[0m\u001b[1;33m,\u001b[0m \u001b[0msolver\u001b[0m\u001b[1;33m.\u001b[0m\u001b[0mlkp\u001b[0m\u001b[1;33m,\u001b[0m \u001b[0mqss_vars\u001b[0m\u001b[1;33m)\u001b[0m\u001b[1;33m,\u001b[0m        \u001b[1;31m# dfunc\u001b[0m\u001b[1;33m\u001b[0m\u001b[1;33m\u001b[0m\u001b[0m\n\u001b[0m\u001b[0;32m    379\u001b[0m             \u001b[0mevent_params\u001b[0m\u001b[1;33m=\u001b[0m\u001b[1;33m{\u001b[0m\u001b[1;34m'lkp'\u001b[0m\u001b[1;33m:\u001b[0m \u001b[0mlkp\u001b[0m\u001b[1;33m.\u001b[0m\u001b[0mproject\u001b[0m\u001b[1;33m(\u001b[0m\u001b[1;34m'A'\u001b[0m\u001b[1;33m,\u001b[0m \u001b[1;36m0.\u001b[0m\u001b[1;33m)\u001b[0m\u001b[1;33m}\u001b[0m\u001b[1;33m,\u001b[0m                          \u001b[1;31m# event parameters\u001b[0m\u001b[1;33m\u001b[0m\u001b[1;33m\u001b[0m\u001b[0m\n\u001b[0;32m    380\u001b[0m             dt=self.pneuron.chooseTimeStep())                                    # time step\n",
      "\u001b[1;32mc:\\users\\lemaire\\documents\\repositories\\pysonic\\PySONIC\\core\\nbls.py\u001b[0m in \u001b[0;36meffDerivatives\u001b[1;34m(self, t, y, lkp1d, qss_vars)\u001b[0m\n\u001b[0;32m    253\u001b[0m         \u001b[1;31m# Unpack values and interpolate lookup at current charge density\u001b[0m\u001b[1;33m\u001b[0m\u001b[1;33m\u001b[0m\u001b[1;33m\u001b[0m\u001b[0m\n\u001b[0;32m    254\u001b[0m         \u001b[0mQm\u001b[0m\u001b[1;33m,\u001b[0m \u001b[1;33m*\u001b[0m\u001b[0mstates\u001b[0m \u001b[1;33m=\u001b[0m \u001b[0my\u001b[0m\u001b[1;33m\u001b[0m\u001b[1;33m\u001b[0m\u001b[0m\n\u001b[1;32m--> 255\u001b[1;33m         \u001b[0mlkp0d\u001b[0m \u001b[1;33m=\u001b[0m \u001b[0mlkp1d\u001b[0m\u001b[1;33m.\u001b[0m\u001b[0minterpolate1D\u001b[0m\u001b[1;33m(\u001b[0m\u001b[0mQm\u001b[0m\u001b[1;33m)\u001b[0m\u001b[1;33m\u001b[0m\u001b[1;33m\u001b[0m\u001b[0m\n\u001b[0m\u001b[0;32m    256\u001b[0m \u001b[1;33m\u001b[0m\u001b[0m\n\u001b[0;32m    257\u001b[0m         \u001b[1;31m# Compute states dictionary from differential and QSS variables\u001b[0m\u001b[1;33m\u001b[0m\u001b[1;33m\u001b[0m\u001b[1;33m\u001b[0m\u001b[0m\n",
      "\u001b[1;32mc:\\users\\lemaire\\documents\\repositories\\pysonic\\PySONIC\\core\\lookups.py\u001b[0m in \u001b[0;36minterpolate1D\u001b[1;34m(self, value)\u001b[0m\n\u001b[0;32m    401\u001b[0m \u001b[1;33m\u001b[0m\u001b[0m\n\u001b[0;32m    402\u001b[0m     \u001b[1;32mdef\u001b[0m \u001b[0minterpolate1D\u001b[0m\u001b[1;33m(\u001b[0m\u001b[0mself\u001b[0m\u001b[1;33m,\u001b[0m \u001b[0mvalue\u001b[0m\u001b[1;33m)\u001b[0m\u001b[1;33m:\u001b[0m\u001b[1;33m\u001b[0m\u001b[1;33m\u001b[0m\u001b[0m\n\u001b[1;32m--> 403\u001b[1;33m         \u001b[1;32mreturn\u001b[0m \u001b[0mEffectiveVariablesDict\u001b[0m\u001b[1;33m(\u001b[0m\u001b[0msuper\u001b[0m\u001b[1;33m(\u001b[0m\u001b[1;33m)\u001b[0m\u001b[1;33m.\u001b[0m\u001b[0minterpolate1D\u001b[0m\u001b[1;33m(\u001b[0m\u001b[0mvalue\u001b[0m\u001b[1;33m)\u001b[0m\u001b[1;33m)\u001b[0m\u001b[1;33m\u001b[0m\u001b[1;33m\u001b[0m\u001b[0m\n\u001b[0m\u001b[0;32m    404\u001b[0m \u001b[1;33m\u001b[0m\u001b[0m\n\u001b[0;32m    405\u001b[0m     \u001b[1;32mdef\u001b[0m \u001b[0mprojectOff\u001b[0m\u001b[1;33m(\u001b[0m\u001b[0mself\u001b[0m\u001b[1;33m)\u001b[0m\u001b[1;33m:\u001b[0m\u001b[1;33m\u001b[0m\u001b[1;33m\u001b[0m\u001b[0m\n",
      "\u001b[1;32mc:\\users\\lemaire\\documents\\repositories\\pysonic\\PySONIC\\core\\lookups.py\u001b[0m in \u001b[0;36minterpolate1D\u001b[1;34m(self, value)\u001b[0m\n\u001b[0;32m    328\u001b[0m             \u001b[1;33m.\u001b[0m\u001b[1;33m.\u001b[0m \u001b[0mwarning\u001b[0m\u001b[1;33m:\u001b[0m\u001b[1;33m:\u001b[0m \u001b[0mThis\u001b[0m \u001b[0mmethod\u001b[0m \u001b[0mcan\u001b[0m \u001b[0monly\u001b[0m \u001b[0mbe\u001b[0m \u001b[0mused\u001b[0m \u001b[1;32mfor\u001b[0m \u001b[1;36m1\u001b[0m \u001b[0mdimensional\u001b[0m \u001b[0mlookups\u001b[0m\u001b[1;33m.\u001b[0m\u001b[1;33m\u001b[0m\u001b[1;33m\u001b[0m\u001b[0m\n\u001b[0;32m    329\u001b[0m         '''\n\u001b[1;32m--> 330\u001b[1;33m         \u001b[1;32mreturn\u001b[0m \u001b[1;33m{\u001b[0m\u001b[0mk\u001b[0m\u001b[1;33m:\u001b[0m \u001b[0mself\u001b[0m\u001b[1;33m.\u001b[0m\u001b[0minterpVar1D\u001b[0m\u001b[1;33m(\u001b[0m\u001b[0mvalue\u001b[0m\u001b[1;33m,\u001b[0m \u001b[0mk\u001b[0m\u001b[1;33m)\u001b[0m \u001b[1;32mfor\u001b[0m \u001b[0mk\u001b[0m \u001b[1;32min\u001b[0m \u001b[0mself\u001b[0m\u001b[1;33m.\u001b[0m\u001b[0moutputs\u001b[0m\u001b[1;33m}\u001b[0m\u001b[1;33m\u001b[0m\u001b[1;33m\u001b[0m\u001b[0m\n\u001b[0m\u001b[0;32m    331\u001b[0m \u001b[1;33m\u001b[0m\u001b[0m\n\u001b[0;32m    332\u001b[0m     \u001b[1;32mdef\u001b[0m \u001b[0mtile\u001b[0m\u001b[1;33m(\u001b[0m\u001b[0mself\u001b[0m\u001b[1;33m,\u001b[0m \u001b[0mref_name\u001b[0m\u001b[1;33m,\u001b[0m \u001b[0mref_values\u001b[0m\u001b[1;33m)\u001b[0m\u001b[1;33m:\u001b[0m\u001b[1;33m\u001b[0m\u001b[1;33m\u001b[0m\u001b[0m\n",
      "\u001b[1;32mc:\\users\\lemaire\\documents\\repositories\\pysonic\\PySONIC\\core\\lookups.py\u001b[0m in \u001b[0;36m<dictcomp>\u001b[1;34m(.0)\u001b[0m\n\u001b[0;32m    328\u001b[0m             \u001b[1;33m.\u001b[0m\u001b[1;33m.\u001b[0m \u001b[0mwarning\u001b[0m\u001b[1;33m:\u001b[0m\u001b[1;33m:\u001b[0m \u001b[0mThis\u001b[0m \u001b[0mmethod\u001b[0m \u001b[0mcan\u001b[0m \u001b[0monly\u001b[0m \u001b[0mbe\u001b[0m \u001b[0mused\u001b[0m \u001b[1;32mfor\u001b[0m \u001b[1;36m1\u001b[0m \u001b[0mdimensional\u001b[0m \u001b[0mlookups\u001b[0m\u001b[1;33m.\u001b[0m\u001b[1;33m\u001b[0m\u001b[1;33m\u001b[0m\u001b[0m\n\u001b[0;32m    329\u001b[0m         '''\n\u001b[1;32m--> 330\u001b[1;33m         \u001b[1;32mreturn\u001b[0m \u001b[1;33m{\u001b[0m\u001b[0mk\u001b[0m\u001b[1;33m:\u001b[0m \u001b[0mself\u001b[0m\u001b[1;33m.\u001b[0m\u001b[0minterpVar1D\u001b[0m\u001b[1;33m(\u001b[0m\u001b[0mvalue\u001b[0m\u001b[1;33m,\u001b[0m \u001b[0mk\u001b[0m\u001b[1;33m)\u001b[0m \u001b[1;32mfor\u001b[0m \u001b[0mk\u001b[0m \u001b[1;32min\u001b[0m \u001b[0mself\u001b[0m\u001b[1;33m.\u001b[0m\u001b[0moutputs\u001b[0m\u001b[1;33m}\u001b[0m\u001b[1;33m\u001b[0m\u001b[1;33m\u001b[0m\u001b[0m\n\u001b[0m\u001b[0;32m    331\u001b[0m \u001b[1;33m\u001b[0m\u001b[0m\n\u001b[0;32m    332\u001b[0m     \u001b[1;32mdef\u001b[0m \u001b[0mtile\u001b[0m\u001b[1;33m(\u001b[0m\u001b[0mself\u001b[0m\u001b[1;33m,\u001b[0m \u001b[0mref_name\u001b[0m\u001b[1;33m,\u001b[0m \u001b[0mref_values\u001b[0m\u001b[1;33m)\u001b[0m\u001b[1;33m:\u001b[0m\u001b[1;33m\u001b[0m\u001b[1;33m\u001b[0m\u001b[0m\n",
      "\u001b[1;32mc:\\users\\lemaire\\documents\\repositories\\pysonic\\PySONIC\\core\\lookups.py\u001b[0m in \u001b[0;36minterpVar1D\u001b[1;34m(self, ref_value, var_key)\u001b[0m\n\u001b[0;32m    317\u001b[0m         '''\n\u001b[0;32m    318\u001b[0m         \u001b[1;32massert\u001b[0m \u001b[0mself\u001b[0m\u001b[1;33m.\u001b[0m\u001b[0mndims\u001b[0m \u001b[1;33m==\u001b[0m \u001b[1;36m1\u001b[0m\u001b[1;33m,\u001b[0m \u001b[1;34m'Cannot interpolate multi-dimensional object'\u001b[0m\u001b[1;33m\u001b[0m\u001b[1;33m\u001b[0m\u001b[0m\n\u001b[1;32m--> 319\u001b[1;33m         \u001b[1;32mreturn\u001b[0m \u001b[0mnp\u001b[0m\u001b[1;33m.\u001b[0m\u001b[0minterp\u001b[0m\u001b[1;33m(\u001b[0m\u001b[0mref_value\u001b[0m\u001b[1;33m,\u001b[0m \u001b[0mself\u001b[0m\u001b[1;33m.\u001b[0m\u001b[0mref\u001b[0m\u001b[1;33m,\u001b[0m \u001b[0mself\u001b[0m\u001b[1;33m.\u001b[0m\u001b[0mtables\u001b[0m\u001b[1;33m[\u001b[0m\u001b[0mvar_key\u001b[0m\u001b[1;33m]\u001b[0m\u001b[1;33m,\u001b[0m \u001b[0mleft\u001b[0m\u001b[1;33m=\u001b[0m\u001b[0mnp\u001b[0m\u001b[1;33m.\u001b[0m\u001b[0mnan\u001b[0m\u001b[1;33m,\u001b[0m \u001b[0mright\u001b[0m\u001b[1;33m=\u001b[0m\u001b[0mnp\u001b[0m\u001b[1;33m.\u001b[0m\u001b[0mnan\u001b[0m\u001b[1;33m)\u001b[0m\u001b[1;33m\u001b[0m\u001b[1;33m\u001b[0m\u001b[0m\n\u001b[0m\u001b[0;32m    320\u001b[0m \u001b[1;33m\u001b[0m\u001b[0m\n\u001b[0;32m    321\u001b[0m     \u001b[1;32mdef\u001b[0m \u001b[0minterpolate1D\u001b[0m\u001b[1;33m(\u001b[0m\u001b[0mself\u001b[0m\u001b[1;33m,\u001b[0m \u001b[0mvalue\u001b[0m\u001b[1;33m)\u001b[0m\u001b[1;33m:\u001b[0m\u001b[1;33m\u001b[0m\u001b[1;33m\u001b[0m\u001b[0m\n",
      "\u001b[1;32m~\\Anaconda3\\lib\\site-packages\\numpy\\lib\\function_base.py\u001b[0m in \u001b[0;36minterp\u001b[1;34m(x, xp, fp, left, right, period)\u001b[0m\n\u001b[0;32m   1410\u001b[0m         \u001b[0mfp\u001b[0m \u001b[1;33m=\u001b[0m \u001b[0mnp\u001b[0m\u001b[1;33m.\u001b[0m\u001b[0mconcatenate\u001b[0m\u001b[1;33m(\u001b[0m\u001b[1;33m(\u001b[0m\u001b[0mfp\u001b[0m\u001b[1;33m[\u001b[0m\u001b[1;33m-\u001b[0m\u001b[1;36m1\u001b[0m\u001b[1;33m:\u001b[0m\u001b[1;33m]\u001b[0m\u001b[1;33m,\u001b[0m \u001b[0mfp\u001b[0m\u001b[1;33m,\u001b[0m \u001b[0mfp\u001b[0m\u001b[1;33m[\u001b[0m\u001b[1;36m0\u001b[0m\u001b[1;33m:\u001b[0m\u001b[1;36m1\u001b[0m\u001b[1;33m]\u001b[0m\u001b[1;33m)\u001b[0m\u001b[1;33m)\u001b[0m\u001b[1;33m\u001b[0m\u001b[1;33m\u001b[0m\u001b[0m\n\u001b[0;32m   1411\u001b[0m \u001b[1;33m\u001b[0m\u001b[0m\n\u001b[1;32m-> 1412\u001b[1;33m     \u001b[1;32mreturn\u001b[0m \u001b[0minterp_func\u001b[0m\u001b[1;33m(\u001b[0m\u001b[0mx\u001b[0m\u001b[1;33m,\u001b[0m \u001b[0mxp\u001b[0m\u001b[1;33m,\u001b[0m \u001b[0mfp\u001b[0m\u001b[1;33m,\u001b[0m \u001b[0mleft\u001b[0m\u001b[1;33m,\u001b[0m \u001b[0mright\u001b[0m\u001b[1;33m)\u001b[0m\u001b[1;33m\u001b[0m\u001b[1;33m\u001b[0m\u001b[0m\n\u001b[0m\u001b[0;32m   1413\u001b[0m \u001b[1;33m\u001b[0m\u001b[0m\n\u001b[0;32m   1414\u001b[0m \u001b[1;33m\u001b[0m\u001b[0m\n",
      "\u001b[1;31mKeyboardInterrupt\u001b[0m: "
     ]
    },
    {
     "name": "stderr",
     "output_type": "stream",
     "text": [
      "C:\\Users\\lemaire\\Anaconda3\\lib\\site-packages\\matplotlib\\colors.py:1171: RuntimeWarning: invalid value encountered in less_equal\n",
      "  mask |= resdat <= 0\n"
     ]
    },
    {
     "data": {
      "image/png": "[encoded data removed]",
      "text/plain": [
       "<Figure size 453.543x328.819 with 2 Axes>"
      ]
     },
     "metadata": {
      "needs_background": "light"
     },
     "output_type": "display_data"
    }
   ],
   "source": [
    "pneuron = getPointNeuron('RS')\n",
    "insets = [(28., 126.96, 'i', 'ul'), (37., 168.39, 'ii', 'ur')]\n",
    "out = plotMapAndTraces(*sim_args(pneuron, PRF), insets=insets, **pltargs)\n",
    "figs.update({f'{subindex}_{k}': v for k, v in out.items()})"
   ]
  },
  {
   "cell_type": "markdown",
   "metadata": {},
   "source": [
    "### LTS neuron"
   ]
  },
  {
   "cell_type": "code",
   "execution_count": null,
   "metadata": {},
   "outputs": [],
   "source": [
    "pneuron = getPointNeuron('LTS')\n",
    "insets = [(8, 47.26, 'iii', 'lr'), (30, 146.22, 'iv', 'ur')]\n",
    "out = plotMapAndTraces(*sim_args(pneuron, PRF), insets=insets, **pltargs)\n",
    "figs.update({f'{subindex}_{k}': v for k, v in out.items()})"
   ]
  },
  {
   "cell_type": "markdown",
   "metadata": {},
   "source": [
    "## 100 Hz PRF"
   ]
  },
  {
   "cell_type": "code",
   "execution_count": null,
   "metadata": {},
   "outputs": [],
   "source": [
    "subindex = 'b'\n",
    "PRF = 1e2  # Hz"
   ]
  },
  {
   "cell_type": "markdown",
   "metadata": {},
   "source": [
    "### RS neuron"
   ]
  },
  {
   "cell_type": "code",
   "execution_count": null,
   "metadata": {},
   "outputs": [],
   "source": [
    "pneuron = getPointNeuron('RS')\n",
    "insets = [(51, 452.40, 'i', 'ul'), (56, 452.40, 'ii', 'ur')]\n",
    "out = plotMapAndTraces(*sim_args(pneuron, PRF), insets=insets, **pltargs)\n",
    "figs.update({f'{subindex}_{k}': v for k, v in out.items()})"
   ]
  },
  {
   "cell_type": "markdown",
   "metadata": {},
   "source": [
    "### LTS neuron"
   ]
  },
  {
   "cell_type": "code",
   "execution_count": null,
   "metadata": {},
   "outputs": [],
   "source": [
    "pneuron = getPointNeuron('LTS')\n",
    "insets = [(13, 193.92, 'iii', 'lr'), (43, 257.19, 'iv', 'ul')]\n",
    "out = plotMapAndTraces(*sim_args(pneuron, PRF), insets=insets, **pltargs)\n",
    "figs.update({f'{subindex}_{k}': v for k, v in out.items()})"
   ]
  },
  {
   "cell_type": "markdown",
   "metadata": {},
   "source": [
    "## 1 kHz PRF"
   ]
  },
  {
   "cell_type": "code",
   "execution_count": null,
   "metadata": {},
   "outputs": [],
   "source": [
    "subindex = 'c'\n",
    "PRF = 1e3  # Hz"
   ]
  },
  {
   "cell_type": "markdown",
   "metadata": {},
   "source": [
    "### RS neuron"
   ]
  },
  {
   "cell_type": "code",
   "execution_count": null,
   "metadata": {},
   "outputs": [],
   "source": [
    "pneuron = getPointNeuron('RS')\n",
    "insets = [(40, 110.25, 'i', 'ul'), (.64, 193.92, 'ii', 'ur')]\n",
    "out = plotMapAndTraces(*sim_args(pneuron, PRF), insets=insets, **pltargs)\n",
    "figs.update({f'{subindex}_{k}': v for k, v in out.items()})"
   ]
  },
  {
   "cell_type": "markdown",
   "metadata": {},
   "source": [
    "### LTS neuron"
   ]
  },
  {
   "cell_type": "code",
   "execution_count": null,
   "metadata": {},
   "outputs": [],
   "source": [
    "pneuron = getPointNeuron('LTS')\n",
    "insets = [(10, 47.26, 'iii', 'lr'), (53, 168.39, 'iv', 'ur')]\n",
    "out = plotMapAndTraces(*sim_args(pneuron, PRF), insets=insets, **pltargs)\n",
    "figs.update({f'{subindex}_{k}': v for k, v in out.items()})"
   ]
  },
  {
   "cell_type": "markdown",
   "metadata": {},
   "source": [
    "### Save figure panels\n",
    "\n",
    "Save figure panels as **pdf** in the *figs* sub-folder:"
   ]
  },
  {
   "cell_type": "code",
   "execution_count": null,
   "metadata": {},
   "outputs": [],
   "source": [
    "saveFigsAsPDF(figs, figindex)"
   ]
  }
 ],
 "metadata": {
  "kernelspec": {
   "display_name": "Python 3",
   "language": "python",
   "name": "python3"
  },
  "language_info": {
   "codemirror_mode": {
    "name": "ipython",
    "version": 3
   },
   "file_extension": ".py",
   "mimetype": "text/x-python",
   "name": "python",
   "nbconvert_exporter": "python",
   "pygments_lexer": "ipython3",
   "version": "3.7.3"
  }
 },
 "nbformat": 4,
 "nbformat_minor": 4
}
