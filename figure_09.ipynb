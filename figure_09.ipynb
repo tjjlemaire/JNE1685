{
 "cells": [
  {
   "cell_type": "markdown",
   "metadata": {},
   "source": [
    "# Figure 9 - CW LIFUS neuromodulatory effects on STN neuron at low acoustic intensities\n",
    "\n",
    "Compute the temporal firing rate profiles of an STN neuron over a narrow range of low acoustic intensities, from SONIC model predictions."
   ]
  },
  {
   "cell_type": "markdown",
   "metadata": {},
   "source": [
    "### Imports"
   ]
  },
  {
   "cell_type": "code",
   "execution_count": 1,
   "metadata": {},
   "outputs": [],
   "source": [
    "import os\n",
    "import logging\n",
    "import numpy as np\n",
    "import matplotlib.pyplot as plt\n",
    "from PySONIC.utils import logger, Intensity2Pressure\n",
    "from PySONIC.plt import CompTimeSeries, GroupedTimeSeries\n",
    "from PySONIC.core import NeuronalBilayerSonophore, PulsedProtocol, AcousticDrive, Batch\n",
    "from PySONIC.neurons import getPointNeuron\n",
    "from PySONIC.plt import cm2inch\n",
    "from utils import saveFigsAsPDF, subdirectory\n",
    "\n",
    "logger.setLevel(logging.INFO)"
   ]
  },
  {
   "cell_type": "markdown",
   "metadata": {},
   "source": [
    "### Data sub-directory"
   ]
  },
  {
   "cell_type": "code",
   "execution_count": 2,
   "metadata": {},
   "outputs": [],
   "source": [
    "subdir = subdirectory('STN')"
   ]
  },
  {
   "cell_type": "markdown",
   "metadata": {},
   "source": [
    "### Plot parameters"
   ]
  },
  {
   "cell_type": "code",
   "execution_count": 3,
   "metadata": {},
   "outputs": [],
   "source": [
    "figindex = 9\n",
    "FR_figsize = cm2inch(20, 8)\n",
    "trace_figsize = cm2inch(14, 6)\n",
    "fs = 12\n",
    "figs = {}"
   ]
  },
  {
   "cell_type": "markdown",
   "metadata": {},
   "source": [
    "### Simulation parameters"
   ]
  },
  {
   "cell_type": "code",
   "execution_count": null,
   "metadata": {},
   "outputs": [],
   "source": [
    "a = 32e-9       # m\n",
    "Fdrive = 500e3  # Hz\n",
    "pp = PulsedProtocol(1.0, 1.0, 100., 1.0)\n",
    "cov = 1.0\n",
    "pneuron = getPointNeuron('STN')\n",
    "nbls = NeuronalBilayerSonophore(a, pneuron)"
   ]
  },
  {
   "cell_type": "markdown",
   "metadata": {},
   "source": [
    "## Panel A: firing rate profiles as a function of acoustic amplitude"
   ]
  },
  {
   "cell_type": "code",
   "execution_count": null,
   "metadata": {},
   "outputs": [],
   "source": [
    "intensities = np.hstack((\n",
    "        np.arange(10, 101, 10),\n",
    "        np.arange(101, 131, 1),\n",
    "        np.array([140])))  # W/m2\n",
    "amps = Intensity2Pressure(intensities)  # Pa\n",
    "queue = [([AcousticDrive(Fdrive, A), pp, cov, 'sonic', None], {'outputdir': subdir}) for A in amps]\n",
    "batch = Batch(nbls.getOutput, queue)\n",
    "outputs = batch.run(mpi=True, loglevel=logger.level)\n",
    "fig = CompTimeSeries(outputs, 'FR').render(\n",
    "    patches='none', cmap='Oranges', trange=(0, 1.0), figsize=FR_figsize, fs=fs)\n",
    "figs['a'] = fig"
   ]
  },
  {
   "cell_type": "markdown",
   "metadata": {},
   "source": [
    "## Panel B: charge density profiles for characteristic acoustic amplitudes"
   ]
  },
  {
   "cell_type": "code",
   "execution_count": null,
   "metadata": {},
   "outputs": [],
   "source": [
    "intensities = np.array([100, 114, 123])  # W/m2\n",
    "amps = Intensity2Pressure(intensities)  # Pa\n",
    "outputs = [nbls.getOutput(AcousticDrive(Fdrive, A), pp, cov, 'sonic', None, outputdir=subdir) for A in amps]\n",
    "figtraces = GroupedTimeSeries(outputs, pltscheme={'Q_m': ['Qm']}).render(fs=fs)\n",
    "for (I, A), fig in zip(zip(intensities, amps), figtraces):\n",
    "    fig.axes[0].set_title(f'{A * 1e-3:.2f} kPa ({I:.0f} W/m2)')\n",
    "    figs[f'b_Qtrace_{I:.0f}_W_per_m2'] = fig"
   ]
  },
  {
   "cell_type": "markdown",
   "metadata": {},
   "source": [
    "### Save figure panels\n",
    "\n",
    "Save figure panels as **pdf** in the *figs* sub-folder:"
   ]
  },
  {
   "cell_type": "code",
   "execution_count": null,
   "metadata": {},
   "outputs": [],
   "source": [
    "saveFigsAsPDF(figs, figindex)"
   ]
  }
 ],
 "metadata": {
  "kernelspec": {
   "display_name": "Python 3",
   "language": "python",
   "name": "python3"
  },
  "language_info": {
   "codemirror_mode": {
    "name": "ipython",
    "version": 3
   },
   "file_extension": ".py",
   "mimetype": "text/x-python",
   "name": "python",
   "nbconvert_exporter": "python",
   "pygments_lexer": "ipython3",
   "version": "3.7.3"
  }
 },
 "nbformat": 4,
 "nbformat_minor": 4
}
