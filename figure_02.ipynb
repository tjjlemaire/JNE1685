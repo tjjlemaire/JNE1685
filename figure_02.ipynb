{
 "cells": [
  {
   "cell_type": "markdown",
   "metadata": {
    "papermill": {
     "duration": null,
     "end_time": null,
     "exception": null,
     "start_time": null,
     "status": "completed"
    },
    "tags": []
   },
   "source": [
    "# Figure 2 - Optimization pipeline\n",
    "\n",
    "Create the figure panels describing the model simplification pipeline."
   ]
  },
  {
   "cell_type": "markdown",
   "metadata": {
    "papermill": {
     "duration": null,
     "end_time": null,
     "exception": null,
     "start_time": null,
     "status": "completed"
    },
    "tags": []
   },
   "source": [
    "### Imports"
   ]
  },
  {
   "cell_type": "code",
   "execution_count": 1,
   "metadata": {
    "papermill": {
     "duration": null,
     "end_time": null,
     "exception": null,
     "start_time": null,
     "status": "completed"
    },
    "tags": []
   },
   "outputs": [],
   "source": [
    "import os\n",
    "import numpy as np\n",
    "import matplotlib.pyplot as plt\n",
    "from matplotlib.ticker import FormatStrFormatter\n",
    "from matplotlib.patches import Rectangle\n",
    "from PySONIC.utils import logger, rescale, si_format\n",
    "from PySONIC.plt import CompTimeSeries, cm2inch\n",
    "from PySONIC.constants import NPC_DENSE\n",
    "from PySONIC.neurons import getPointNeuron\n",
    "from PySONIC.core import BilayerSonophore, NeuronalBilayerSonophore, PulsedProtocol, AcousticDrive\n",
    "from utils import saveFigsAsPDF"
   ]
  },
  {
   "cell_type": "markdown",
   "metadata": {
    "papermill": {
     "duration": null,
     "end_time": null,
     "exception": null,
     "start_time": null,
     "status": "completed"
    },
    "tags": []
   },
   "source": [
    "### Plot parameters"
   ]
  },
  {
   "cell_type": "code",
   "execution_count": 2,
   "metadata": {
    "papermill": {
     "duration": null,
     "end_time": null,
     "exception": null,
     "start_time": null,
     "status": "completed"
    },
    "tags": []
   },
   "outputs": [],
   "source": [
    "figindex = 2\n",
    "fs = 12\n",
    "lw = 2\n",
    "ps = 15\n",
    "figs = {}"
   ]
  },
  {
   "cell_type": "markdown",
   "metadata": {
    "papermill": {
     "duration": null,
     "end_time": null,
     "exception": null,
     "start_time": null,
     "status": "completed"
    },
    "tags": []
   },
   "source": [
    "### Simulation parameters"
   ]
  },
  {
   "cell_type": "code",
   "execution_count": 3,
   "metadata": {
    "papermill": {
     "duration": null,
     "end_time": null,
     "exception": null,
     "start_time": null,
     "status": "completed"
    },
    "tags": []
   },
   "outputs": [],
   "source": [
    "pneuron = getPointNeuron('RS')\n",
    "a = 32e-9  # m\n",
    "drive = AcousticDrive(\n",
    "    500e3,  # Hz\n",
    "    100e3)  # Pa\n",
    "Qm = -71.9e-5  # C/cm2\n",
    "bls = BilayerSonophore(a, pneuron.Cm0, pneuron.Qm0)\n",
    "nbls = NeuronalBilayerSonophore(a, pneuron)"
   ]
  },
  {
   "cell_type": "markdown",
   "metadata": {
    "papermill": {
     "duration": null,
     "end_time": null,
     "exception": null,
     "start_time": null,
     "status": "completed"
    },
    "tags": []
   },
   "source": [
    "## Panel A: approximation of intermolecular pressure"
   ]
  },
  {
   "cell_type": "code",
   "execution_count": 4,
   "metadata": {
    "papermill": {
     "duration": null,
     "end_time": null,
     "exception": null,
     "start_time": null,
     "status": "completed"
    },
    "tags": []
   },
   "outputs": [
    {
     "data": {
      "image/png": "[encoded data removed]",
      "text/plain": [
       "<Figure size 198.425x198.425 with 1 Axes>"
      ]
     },
     "metadata": {
      "needs_background": "light"
     },
     "output_type": "display_data"
    }
   ],
   "source": [
    "Z = np.linspace(-0.4 * bls.Delta_, bls.a, 1000)\n",
    "fig, ax = plt.subplots(figsize=cm2inch(7, 7))\n",
    "for key in ['right', 'top']:\n",
    "    ax.spines[key].set_visible(False)\n",
    "for key in ['bottom', 'left']:\n",
    "    ax.spines[key].set_linewidth(2)\n",
    "ax.spines['bottom'].set_position('zero')\n",
    "ax.set_xlabel('Z (nm)', fontsize=fs)\n",
    "ax.set_ylabel('Pressure (kPa)', fontsize=fs, labelpad=-10)\n",
    "ax.set_xticks([0, bls.a * 1e9])\n",
    "ax.set_xticklabels(['0', 'a'])\n",
    "ax.tick_params(axis='x', which='major', length=25, pad=5)\n",
    "ax.set_yticks([0])\n",
    "ax.set_ylim([-10, 50])\n",
    "for item in ax.get_xticklabels() + ax.get_yticklabels():\n",
    "    item.set_fontsize(fs)\n",
    "ax.plot(Z * 1e9, bls.v_PMavg(Z, bls.v_curvrad(Z), bls.surface(Z)) * 1e-3, c='g', label='$P_m$')\n",
    "ax.plot(Z * 1e9, bls.PMavgpred(Z) * 1e-3, '--', c='r', label='$\\~P_m$')\n",
    "ax.axhline(y=0, color='k')\n",
    "ax.legend(fontsize=fs, frameon=False)\n",
    "fig.tight_layout()\n",
    "figs['a'] = fig"
   ]
  },
  {
   "cell_type": "markdown",
   "metadata": {
    "papermill": {
     "duration": null,
     "end_time": null,
     "exception": null,
     "start_time": null,
     "status": "completed"
    },
    "tags": []
   },
   "source": [
    "## Panel B: recasting"
   ]
  },
  {
   "cell_type": "code",
   "execution_count": 5,
   "metadata": {
    "papermill": {
     "duration": null,
     "end_time": null,
     "exception": null,
     "start_time": null,
     "status": "completed"
    },
    "tags": []
   },
   "outputs": [
    {
     "data": {
      "image/png": "[encoded data removed]",
      "text/plain": [
       "<Figure size 481.89x141.732 with 2 Axes>"
      ]
     },
     "metadata": {
      "needs_background": "light"
     },
     "output_type": "display_data"
    }
   ],
   "source": [
    "# Run effective simulation\n",
    "data, _ = nbls.simulate(drive, PulsedProtocol(5 / drive.f, 0.), method='full')\n",
    "t, Qm, Vm = [data[key].values for key in ['t', 'Qm', 'Vm']]\n",
    "t *= 1e6  # us\n",
    "Qm *= 1e5  # nC/cm2\n",
    "Qrange = (Qm.min(), Qm.max())\n",
    "dQ = Qrange[1] - Qrange[0]\n",
    "\n",
    "# Create figure and axes\n",
    "fig, axes = plt.subplots(1, 2, figsize=cm2inch(17, 5))\n",
    "for ax in axes:\n",
    "    ax.set_xticks([])\n",
    "    ax.set_yticks([])\n",
    "\n",
    "# Plot Q-trace and V-trace\n",
    "ax = axes[0]\n",
    "for key in ['top', 'right']:\n",
    "    ax.spines[key].set_visible(False)\n",
    "for key in ['bottom', 'left']:\n",
    "    ax.spines[key].set_position(('axes', -0.03))\n",
    "    ax.spines[key].set_linewidth(2)\n",
    "ax.plot(t, Vm, label='Vm', c='dimgrey', linewidth=lw)\n",
    "ax.plot(t, Qm, label='Qm', c='k', linewidth=lw)\n",
    "ax.add_patch(Rectangle(\n",
    "    (t[0], Qrange[0] - 5), t[-1], dQ + 10,\n",
    "    fill=False, edgecolor='k', linestyle='--', linewidth=1\n",
    "))\n",
    "ax.yaxis.set_tick_params(width=2)\n",
    "ax.yaxis.set_major_formatter(FormatStrFormatter('%.0f'))\n",
    "# ax.set_xlim((t.min(), t.max()))\n",
    "ax.set_xticks([])\n",
    "ax.set_xlabel('{}s'.format(si_format((t.max()), space=' ')), fontsize=fs)\n",
    "ax.set_ylabel('$\\\\rm nC/cm^2$ - mV', fontsize=fs, labelpad=-15)\n",
    "ax.set_yticks(ax.get_ylim())\n",
    "for item in ax.get_yticklabels():\n",
    "    item.set_fontsize(fs)\n",
    "\n",
    "# Plot inset on Q-trace\n",
    "ax = axes[1]\n",
    "for key in ['top', 'right', 'bottom', 'left']:\n",
    "    ax.spines[key].set_linewidth(1)\n",
    "    ax.spines[key].set_linestyle('--')\n",
    "ax.plot(t, Vm, label='Vm', c='dimgrey', linewidth=lw)\n",
    "ax.plot(t, Qm, label='Qm', c='k', linewidth=lw)\n",
    "ax.set_xlim((t.min(), t.max()))\n",
    "ax.set_xticks([])\n",
    "ax.set_yticks([])\n",
    "delta = 0.05\n",
    "ax.set_ylim(Qrange[0] - delta * dQ, Qrange[1] + delta * dQ)\n",
    "\n",
    "figs['b'] = fig"
   ]
  },
  {
   "cell_type": "markdown",
   "metadata": {
    "papermill": {
     "duration": null,
     "end_time": null,
     "exception": null,
     "start_time": null,
     "status": "completed"
    },
    "tags": []
   },
   "source": [
    "## Panel C: mechanical simulation"
   ]
  },
  {
   "cell_type": "code",
   "execution_count": 6,
   "metadata": {
    "papermill": {
     "duration": null,
     "end_time": null,
     "exception": null,
     "start_time": null,
     "status": "completed"
    },
    "tags": []
   },
   "outputs": [
    {
     "data": {
      "image/png": "[encoded data removed]",
      "text/plain": [
       "<Figure size 198.425x198.425 with 1 Axes>"
      ]
     },
     "metadata": {},
     "output_type": "display_data"
    }
   ],
   "source": [
    "# Run mechanical simulation\n",
    "Qm = -71.9e-5  # C/cm2\n",
    "data, _ = bls.simulate(drive, Qm)\n",
    "t, Z, ng = [data[key].values for key in ['t', 'Z', 'ng']]\n",
    "\n",
    "# Create figure\n",
    "fig, ax = plt.subplots(figsize=cm2inch(7, 7))\n",
    "fig.suptitle('Mechanical simulation', fontsize=12)\n",
    "for skey in ['bottom', 'left', 'right', 'top']:\n",
    "    ax.spines[skey].set_visible(False)\n",
    "ax.set_xticks([])\n",
    "ax.set_yticks([])\n",
    "\n",
    "# Plot variables and labels\n",
    "t_plot = np.insert(t, 0, -1e-6) * 1e6\n",
    "Pac = drive.compute(t)  # Pa\n",
    "yvars = {'P_A': Pac * 1e-3, 'Z': Z * 1e9, 'n_g': ng * 1e22}\n",
    "colors = {'P_A': 'k', 'Z': 'C0', 'n_g': 'C5'}\n",
    "dy = 1.2\n",
    "for i, ykey in enumerate(yvars.keys()):\n",
    "    y = yvars[ykey]\n",
    "    y_plot = rescale(np.insert(y, 0, y[0])) - dy * i\n",
    "    ax.plot(t_plot, y_plot, color=colors[ykey], linewidth=lw)\n",
    "    ax.text(t_plot[0] - 0.1, y_plot[0], '$\\mathregular{{{}}}$'.format(ykey), fontsize=fs,\n",
    "            horizontalalignment='right', verticalalignment='center', color=colors[ykey])\n",
    "\n",
    "# Acoustic pressure annotations\n",
    "ax.annotate(s='', xy=(1.5, 1.1), xytext=(3.5, 1.1),\n",
    "            arrowprops=dict(arrowstyle='<|-|>', color='k'))\n",
    "ax.text(2.5, 1.12, '1/f', fontsize=fs, color='k',\n",
    "        horizontalalignment='center', verticalalignment='bottom')\n",
    "ax.annotate(s='', xy=(1.5, -0.1), xytext=(1.5, 1),\n",
    "            arrowprops=dict(arrowstyle='<|-|>', color='k'))\n",
    "ax.text(1.55, 0.4, '2A', fontsize=fs, color='k',\n",
    "        horizontalalignment='left', verticalalignment='center')\n",
    "\n",
    "# Periodic stabilization patch\n",
    "ax.add_patch(Rectangle((2, -2 * dy - 0.1), 2, 2 * dy, color='dimgrey', alpha=0.3))\n",
    "ax.text(3, -2 * dy - 0.2, 'limit cycle', fontsize=fs, color='dimgrey',\n",
    "        horizontalalignment='center', verticalalignment='top')\n",
    "# Z_last patch\n",
    "ax.add_patch(Rectangle((2, -dy - 0.1), 2, dy, edgecolor='k', facecolor='none', linestyle='--'))\n",
    "\n",
    "# ngeff annotations\n",
    "c = plt.get_cmap('tab20').colors[11]\n",
    "ax.text(t_plot[-1] + 0.1, y_plot[-1], '$\\mathregular{n_{g,eff}}$', fontsize=fs, color=c,\n",
    "        horizontalalignment='left', verticalalignment='center')\n",
    "ax.scatter([t_plot[-1]], [y_plot[-1]], color=c, s=ps)\n",
    "\n",
    "figs['c_mechsim'] = fig"
   ]
  },
  {
   "cell_type": "markdown",
   "metadata": {
    "papermill": {
     "duration": null,
     "end_time": null,
     "exception": null,
     "start_time": null,
     "status": "completed"
    },
    "tags": []
   },
   "source": [
    "## Panel C: cycle-averaging"
   ]
  },
  {
   "cell_type": "code",
   "execution_count": 7,
   "metadata": {
    "papermill": {
     "duration": null,
     "end_time": null,
     "exception": null,
     "start_time": null,
     "status": "completed"
    },
    "tags": []
   },
   "outputs": [
    {
     "data": {
      "image/png": "[encoded data removed]",
      "text/plain": [
       "<Figure size 113.386x425.197 with 6 Axes>"
      ]
     },
     "metadata": {},
     "output_type": "display_data"
    }
   ],
   "source": [
    "# Run mechanical simulation\n",
    "data, _ = bls.simulate(drive, Qm)\n",
    "t, Z, ng = [data[key].values for key in ['t', 'Z', 'ng']]\n",
    "\n",
    "# Compute variables evolution over last acoustic cycle\n",
    "t_last = t[-NPC_DENSE:] * 1e6  # us\n",
    "Z_last = Z[-NPC_DENSE:]  # m\n",
    "Cm = bls.v_capacitance(Z_last) * 1e2  # uF/m2\n",
    "Vm = Qm / Cm * 1e5  # mV\n",
    "yvars = {\n",
    "    'C_m': Cm,  # uF/cm2\n",
    "    'V_m': Vm,  # mV\n",
    "    '\\\\alpha_m': pneuron.alpham(Vm) * 1e3,  # ms-1\n",
    "    '\\\\beta_m': pneuron.betam(Vm) * 1e3,  # ms-1\n",
    "    'p_\\\\infty / \\\\tau_p': pneuron.pinf(Vm) / pneuron.taup(Vm) * 1e3,  # ms-1\n",
    "    '(1-p_\\\\infty) / \\\\tau_p': (1 - pneuron.pinf(Vm)) / pneuron.taup(Vm) * 1e3  # ms-1\n",
    "}\n",
    "\n",
    "# Determine colors\n",
    "violets = plt.get_cmap('Paired').colors[8:10][::-1]\n",
    "oranges = plt.get_cmap('Paired').colors[6:8][::-1]\n",
    "colors = {\n",
    "    'C_m': ['k', 'dimgrey'],\n",
    "    'V_m': plt.get_cmap('tab20').colors[14:16],\n",
    "    '\\\\alpha_m': violets,\n",
    "    '\\\\beta_m': oranges,\n",
    "    'p_\\\\infty / \\\\tau_p': violets,\n",
    "    '(1-p_\\\\infty) / \\\\tau_p': oranges\n",
    "}\n",
    "\n",
    "# Create figure and axes\n",
    "fig, axes = plt.subplots(6, 1, figsize=cm2inch(4, 15))\n",
    "fig.suptitle('Cycle-averaging', fontsize=fs)\n",
    "for ax in axes:\n",
    "    ax.set_xticks([])\n",
    "    ax.set_yticks([])\n",
    "    for skey in ['bottom', 'left', 'right', 'top']:\n",
    "        ax.spines[skey].set_visible(False)\n",
    "\n",
    "# Plot variables\n",
    "for ax, ykey in zip(axes, yvars.keys()):\n",
    "    ax.set_xticks([])\n",
    "    ax.set_yticks([])\n",
    "    for skey in ['bottom', 'left', 'right', 'top']:\n",
    "        ax.spines[skey].set_visible(False)\n",
    "    y = yvars[ykey]\n",
    "    ax.plot(t_last, y, color=colors[ykey][0], linewidth=lw)\n",
    "    ax.plot([t_last[0], t_last[-1]], [np.mean(y)] * 2, '--', color=colors[ykey][1])\n",
    "    ax.scatter([t_last[-1]], [np.mean(y)], s=ps, color=colors[ykey][1])\n",
    "    ax.text(t_last[0] - 0.1, y[0], '$\\mathregular{{{}}}$'.format(ykey), fontsize=fs,\n",
    "            horizontalalignment='right', verticalalignment='center', color=colors[ykey][0])\n",
    "\n",
    "figs['c_cycleavg'] = fig"
   ]
  },
  {
   "cell_type": "markdown",
   "metadata": {
    "papermill": {
     "duration": null,
     "end_time": null,
     "exception": null,
     "start_time": null,
     "status": "completed"
    },
    "tags": []
   },
   "source": [
    "## Panel D: hybrid integration"
   ]
  },
  {
   "cell_type": "code",
   "execution_count": 8,
   "metadata": {
    "papermill": {
     "duration": null,
     "end_time": null,
     "exception": null,
     "start_time": null,
     "status": "completed"
    },
    "tags": []
   },
   "outputs": [
    {
     "name": "stderr",
     "output_type": "stream",
     "text": [
      "No handles with labels found to put in legend.\n"
     ]
    },
    {
     "data": {
      "image/png": "[encoded data removed]",
      "text/plain": [
       "<Figure size 792x288 with 1 Axes>"
      ]
     },
     "metadata": {
      "needs_background": "light"
     },
     "output_type": "display_data"
    }
   ],
   "source": [
    "# Run effective simulation\n",
    "pp = PulsedProtocol(150e-3, 100e-3, 100., 0.5)\n",
    "data, meta = nbls.simulate(drive, pp, method='sonic')\n",
    "\n",
    "# Plot charge density response\n",
    "fig = CompTimeSeries([(data, meta)], 'Qm').render()\n",
    "ax = fig.axes[0]\n",
    "line = ax.lines[0]\n",
    "line.set_color('k')\n",
    "line.set_label(None)\n",
    "ax.legend(fontsize=fs, frameon=False)\n",
    "t = data['t'].values\n",
    "ax.set_title('')\n",
    "ax.set_xticks([])\n",
    "ax.set_yticks([])\n",
    "for key in ['top', 'right']:\n",
    "    ax.spines[key].set_visible(False)\n",
    "for key in ['bottom', 'left']:\n",
    "    ax.spines[key].set_position(('axes', -0.03))\n",
    "    ax.spines[key].set_linewidth(2)\n",
    "ax.spines['bottom'].set_bounds(low=t.min() * 1e3, high=t.max() * 1e3)\n",
    "ax.yaxis.set_tick_params(width=2)\n",
    "ax.yaxis.set_major_formatter(FormatStrFormatter('%+.0f'))\n",
    "ax.set_xticks([])\n",
    "ax.set_xlabel('{}s'.format(si_format((t.ptp()), space=' ')), fontsize=fs)\n",
    "ax.set_yticks(ax.get_ylim())\n",
    "for item in ax.get_yticklabels():\n",
    "    item.set_fontsize(fs)\n",
    "    \n",
    "figs['d'] = fig"
   ]
  },
  {
   "cell_type": "markdown",
   "metadata": {
    "papermill": {
     "duration": null,
     "end_time": null,
     "exception": null,
     "start_time": null,
     "status": "completed"
    },
    "tags": []
   },
   "source": [
    "### Save figure panels\n",
    "\n",
    "Save figure panels as **pdf** in the *figs* sub-folder:"
   ]
  },
  {
   "cell_type": "code",
   "execution_count": 9,
   "metadata": {
    "papermill": {
     "duration": null,
     "end_time": null,
     "exception": null,
     "start_time": null,
     "status": "completed"
    },
    "tags": []
   },
   "outputs": [],
   "source": [
    "saveFigsAsPDF(figs, figindex)"
   ]
  }
 ],
 "metadata": {
  "kernelspec": {
   "display_name": "Python 3",
   "language": "python",
   "name": "python3"
  },
  "language_info": {
   "codemirror_mode": {
    "name": "ipython",
    "version": 3
   },
   "file_extension": ".py",
   "mimetype": "text/x-python",
   "name": "python",
   "nbconvert_exporter": "python",
   "pygments_lexer": "ipython3",
   "version": "3.7.3"
  },
  "papermill": {
   "duration": 0.044879,
   "end_time": "2020-04-28T19:48:13.775289",
   "environment_variables": {},
   "exception": null,
   "input_path": "figure_02.ipynb",
   "output_path": "figure_02.ipynb",
   "parameters": {},
   "start_time": "2020-04-28T19:48:13.730410",
   "version": "2.1.1"
  }
 },
 "nbformat": 4,
 "nbformat_minor": 4
}
