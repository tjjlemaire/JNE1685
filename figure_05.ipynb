{
 "cells": [
  {
   "cell_type": "markdown",
   "metadata": {},
   "source": [
    "# Figure 5 - Model validation\n",
    "\n",
    "Create the figure panels describing the SONIC model validation against the detailed NICE model by comparison of charge density profiles for regular-spiking and low-threshold spiking neurons across the LIFUS parameter space and for various sonophore radii."
   ]
  },
  {
   "cell_type": "markdown",
   "metadata": {},
   "source": [
    "### Imports"
   ]
  },
  {
   "cell_type": "code",
   "execution_count": 1,
   "metadata": {},
   "outputs": [],
   "source": [
    "import os\n",
    "import logging\n",
    "import numpy as np\n",
    "import matplotlib.pyplot as plt\n",
    "from PySONIC.core import NeuronalBilayerSonophore, PulsedProtocol, AcousticDrive\n",
    "from PySONIC.postpro import computeSpikingMetrics\n",
    "from PySONIC.utils import logger, si_format\n",
    "from PySONIC.neurons import getPointNeuron\n",
    "from PySONIC.plt import CompTimeSeries, cm2inch\n",
    "from utils import saveFigsAsPDF, subdirectory, subthr, suprathr\n",
    "\n",
    "logger.setLevel(logging.INFO)"
   ]
  },
  {
   "cell_type": "markdown",
   "metadata": {},
   "source": [
    "### Functions"
   ]
  },
  {
   "cell_type": "code",
   "execution_count": 2,
   "metadata": {},
   "outputs": [],
   "source": [
    "def altLabels(l):\n",
    "    ''' Add an empty label before each label on an iterable. '''\n",
    "    return sum([['', x] for x in l], [])\n",
    "\n",
    "def plotSpikingMetrics(xvar, xlabel, metrics_dict, logscale=False, spikeamp=True, colors=None,\n",
    "                       fs=8, lw=2, ps=4, figsize=cm2inch(7.25, 5.8), rf=10):\n",
    "    ''' Plot the evolution of spiking metrics as function of a specific stimulation parameter. '''\n",
    "\n",
    "    ls = {'full': 'o-', 'sonic': 'o--'}\n",
    "    cdefault = {'full': 'silver', 'sonic': 'k'}\n",
    "\n",
    "    # Create figure\n",
    "    fig, axes = plt.subplots(3, 1, figsize=figsize)\n",
    "    ibase = 0 if spikeamp else 1\n",
    "    axes[ibase].set_ylabel('Latency\\n (ms)', fontsize=fs, rotation=0, ha='right', va='center')\n",
    "    axes[ibase + 1].set_ylabel(\n",
    "        'Firing\\n rate (Hz)', fontsize=fs, rotation=0, ha='right', va='center')\n",
    "    if spikeamp:\n",
    "        axes[2].set_ylabel('Spike amp.\\n ($\\\\rm nC/cm^2$)', fontsize=fs, rotation=0, ha='right',\n",
    "                           va='center')\n",
    "    for ax in axes:\n",
    "        ax.spines['top'].set_visible(False)\n",
    "        ax.spines['right'].set_visible(False)\n",
    "        if logscale:\n",
    "            ax.set_xscale('log')\n",
    "        for item in ax.get_yticklabels():\n",
    "            item.set_fontsize(fs)\n",
    "    for ax in axes[:-1]:\n",
    "        ax.spines['bottom'].set_visible(False)\n",
    "        ax.set_xticks([])\n",
    "        plt.setp(ax.get_xticklabels(minor=True), visible=False)\n",
    "        ax.get_xaxis().set_tick_params(which='minor', size=0)\n",
    "        ax.get_xaxis().set_tick_params(which='minor', width=0)\n",
    "    axes[-1].set_xlabel(xlabel, fontsize=fs)\n",
    "    if not logscale:\n",
    "        axes[-1].set_xticks([min(xvar), max(xvar)])\n",
    "    for item in axes[-1].get_xticklabels():\n",
    "        item.set_fontsize(fs)\n",
    "\n",
    "    # Plot metrics for each neuron and method\n",
    "    for neuron, metrics_subdict in metrics_dict.items():\n",
    "        c = colors[neuron] if colors is not None else cdefault\n",
    "        for method, metrics in metrics_subdict.items():             \n",
    "            # Latency\n",
    "            axes[ibase].plot(\n",
    "                xvar, metrics['latencies (ms)'].values, ls[method], color=c[method],\n",
    "                linewidth=lw, markersize=ps, label=neuron if method == 'sonic' else '')\n",
    "\n",
    "            # Firing rate\n",
    "            axes[ibase + 1].errorbar(\n",
    "                xvar, metrics['mean firing rates (Hz)'].values,\n",
    "                yerr=metrics['std firing rates (Hz)'].values,\n",
    "                fmt=ls[method], color=c[method], linewidth=lw, markersize=ps)\n",
    "\n",
    "            # Spike amplitudes\n",
    "            if spikeamp:\n",
    "                axes[2].errorbar(\n",
    "                    xvar, metrics['mean spike amplitudes (nC/cm2)'].values,\n",
    "                    yerr=metrics['std spike amplitudes (nC/cm2)'].values,\n",
    "                    fmt=ls[method], color=c[method], linewidth=lw, markersize=ps)\n",
    "\n",
    "    # Adapt axes y-limits\n",
    "    for ax in axes:\n",
    "        ax.set_ylim([np.floor(ax.get_ylim()[0] / rf) * rf, np.ceil(ax.get_ylim()[1] / rf) * rf])\n",
    "        ax.set_yticks([max(ax.get_ylim()[0], 0), ax.get_ylim()[1]])\n",
    "\n",
    "    # Legend\n",
    "    if len(metrics_dict.keys()) > 1:\n",
    "        leg = axes[0].legend(fontsize=fs, frameon=False, bbox_to_anchor=(0., 0.9, 1., .102),\n",
    "                             loc=8, ncol=2, borderaxespad=0.)\n",
    "        for l in leg.get_lines():\n",
    "            l.set_linestyle('-')\n",
    "\n",
    "    fig.subplots_adjust(hspace=.3, bottom=0.2, left=0.35, right=0.95, top=0.95)\n",
    "    return fig"
   ]
  },
  {
   "cell_type": "markdown",
   "metadata": {},
   "source": [
    "### Data sub-directory"
   ]
  },
  {
   "cell_type": "code",
   "execution_count": 3,
   "metadata": {},
   "outputs": [],
   "source": [
    "subdir = subdirectory('comparisons')"
   ]
  },
  {
   "cell_type": "markdown",
   "metadata": {},
   "source": [
    "### Plot parameters"
   ]
  },
  {
   "cell_type": "code",
   "execution_count": 4,
   "metadata": {},
   "outputs": [],
   "source": [
    "figindex = 5\n",
    "fs = 15\n",
    "lw = 2\n",
    "ps = 8\n",
    "Qtrace_figsize = cm2inch(25, 12)\n",
    "metrics_figsize = cm2inch(14.5, 11.6)\n",
    "figs = {}"
   ]
  },
  {
   "cell_type": "markdown",
   "metadata": {},
   "source": [
    "### Simulation parameters"
   ]
  },
  {
   "cell_type": "code",
   "execution_count": 5,
   "metadata": {},
   "outputs": [],
   "source": [
    "a = 32e-9  # m\n",
    "Adrive = 100e3  # Pa\n",
    "Fdrive = 500e3  # Hz\n",
    "tstim = 150e-3  # s\n",
    "toffset = 100e-3  # s\n",
    "PRF = 100.  # Hz\n",
    "DC = 1.0\n",
    "cov = 1.\n",
    "\n",
    "CW_pp = PulsedProtocol(tstim, toffset)\n",
    "methods = ['full', 'sonic']"
   ]
  },
  {
   "cell_type": "markdown",
   "metadata": {},
   "source": [
    "## Panel A: comparison across US amplitudes (CW, RS neuron)"
   ]
  },
  {
   "cell_type": "code",
   "execution_count": 6,
   "metadata": {},
   "outputs": [],
   "source": [
    "pneuron = getPointNeuron('RS')\n",
    "nbls = NeuronalBilayerSonophore(a, pneuron)"
   ]
  },
  {
   "cell_type": "markdown",
   "metadata": {},
   "source": [
    "Comparison of $Q_m$ traces for CW stimuli at sub-threshold, threshold and supra-threshold amplitudes. **The rendering may take a few seconds...**"
   ]
  },
  {
   "cell_type": "code",
   "execution_count": 7,
   "metadata": {},
   "outputs": [
    {
     "name": "stderr",
     "output_type": "stream",
     "text": [
      " 01/05/2020 22:38:01: File \"ASTIM_RS_CW_32nm_f_500kHz_A_31.09kPa_tstim_150ms_toffset_100ms_full.pkl\" already present in directory \"C:\\Users\\lemaire\\Documents\\SONIC paper data\\comparisons\" -> preserving\n",
      " 01/05/2020 22:38:01: Loading data from \"ASTIM_RS_CW_32nm_f_500kHz_A_31.09kPa_tstim_150ms_toffset_100ms_full.pkl\"\n",
      " 01/05/2020 22:38:06: File \"ASTIM_RS_CW_32nm_f_500kHz_A_31.09kPa_tstim_150ms_toffset_100ms_sonic.pkl\" already present in directory \"C:\\Users\\lemaire\\Documents\\SONIC paper data\\comparisons\" -> preserving\n",
      " 01/05/2020 22:38:06: Loading data from \"ASTIM_RS_CW_32nm_f_500kHz_A_31.09kPa_tstim_150ms_toffset_100ms_sonic.pkl\"\n",
      " 01/05/2020 22:38:06: File \"ASTIM_RS_CW_32nm_f_500kHz_A_36.09kPa_tstim_150ms_toffset_100ms_full.pkl\" already present in directory \"C:\\Users\\lemaire\\Documents\\SONIC paper data\\comparisons\" -> preserving\n",
      " 01/05/2020 22:38:06: Loading data from \"ASTIM_RS_CW_32nm_f_500kHz_A_36.09kPa_tstim_150ms_toffset_100ms_full.pkl\"\n",
      " 01/05/2020 22:38:10: inconsistent differing inputs\n",
      " 01/05/2020 22:38:12: File \"ASTIM_RS_CW_32nm_f_500kHz_A_36.09kPa_tstim_150ms_toffset_100ms_sonic.pkl\" already present in directory \"C:\\Users\\lemaire\\Documents\\SONIC paper data\\comparisons\" -> preserving\n",
      " 01/05/2020 22:38:12: Loading data from \"ASTIM_RS_CW_32nm_f_500kHz_A_36.09kPa_tstim_150ms_toffset_100ms_sonic.pkl\"\n",
      " 01/05/2020 22:38:12: More than one differing inputs\n",
      " 01/05/2020 22:38:12: File \"ASTIM_RS_CW_32nm_f_500kHz_A_56.09kPa_tstim_150ms_toffset_100ms_full.pkl\" already present in directory \"C:\\Users\\lemaire\\Documents\\SONIC paper data\\comparisons\" -> preserving\n",
      " 01/05/2020 22:38:12: Loading data from \"ASTIM_RS_CW_32nm_f_500kHz_A_56.09kPa_tstim_150ms_toffset_100ms_full.pkl\"\n",
      " 01/05/2020 22:38:19: File \"ASTIM_RS_CW_32nm_f_500kHz_A_56.09kPa_tstim_150ms_toffset_100ms_sonic.pkl\" already present in directory \"C:\\Users\\lemaire\\Documents\\SONIC paper data\\comparisons\" -> preserving\n",
      " 01/05/2020 22:38:19: Loading data from \"ASTIM_RS_CW_32nm_f_500kHz_A_56.09kPa_tstim_150ms_toffset_100ms_sonic.pkl\"\n",
      " 01/05/2020 22:38:19: More than one differing inputs\n",
      " 01/05/2020 22:38:19: More than one differing inputs\n",
      " 01/05/2020 22:38:19: More than one differing inputs\n"
     ]
    },
    {
     "data": {
      "image/png": "[encoded data removed]",
      "text/plain": [
       "<Figure size 708.661x340.157 with 1 Axes>"
      ]
     },
     "metadata": {
      "needs_background": "light"
     },
     "output_type": "display_data"
    }
   ],
   "source": [
    "# Amplitudes\n",
    "Athr = nbls.titrate(AcousticDrive(Fdrive), CW_pp)\n",
    "regime_amps = {\n",
    "    'AT - 5 kPa': subthr(Athr),\n",
    "    'AT': Athr,\n",
    "    'AT + 20 kPa': suprathr(Athr)\n",
    "}\n",
    "\n",
    "# Get outputs (using a generator expression to avoid overloading the memory)\n",
    "outputs = (\n",
    "    nbls.getOutput(AcousticDrive(Fdrive, x), CW_pp, cov, method, None, outputdir=subdir)\n",
    "    for x in regime_amps.values() for method in methods\n",
    ")\n",
    "\n",
    "# Plot\n",
    "figs['a_Qtraces'] = CompTimeSeries(outputs, 'Qm').render(\n",
    "    labels=altLabels(regime_amps.keys()),\n",
    "    lines=['-', '--'] * len(regime_amps),\n",
    "    colors=plt.get_cmap('Paired').colors[:2 * len(regime_amps)],\n",
    "    fs=fs, patches='one', figsize=Qtrace_figsize)"
   ]
  },
  {
   "cell_type": "markdown",
   "metadata": {},
   "source": [
    "Comparison of spiking metrics for CW stimuli at various supra-threshold amplitudes. **The rendering may take a few seconds...**"
   ]
  },
  {
   "cell_type": "code",
   "execution_count": null,
   "metadata": {},
   "outputs": [],
   "source": [
    "# Amplitudes\n",
    "suprathr_amps = np.array([50, 100, 300, 600]) * 1e3  # Pa\n",
    "\n",
    "# Get outputs (using a generator expression to avoid overloading the memory)\n",
    "def gen(method):\n",
    "    return (nbls.getOutput(AcousticDrive(Fdrive, x), CW_pp, cov, method, None, outputdir=subdir)\n",
    "            for x in suprathr_amps)\n",
    "outputs = {method: gen(method) for method in methods}\n",
    "\n",
    "# Compute spiking metrics on them\n",
    "metrics = {pneuron.name: {k: computeSpikingMetrics(v) for k, v in outputs.items()}}\n",
    "\n",
    "# Plot\n",
    "figs['a_spikemetrics'] = plotSpikingMetrics(\n",
    "    suprathr_amps * 1e-3, 'Amplitude (kPa)', metrics,\n",
    "    logscale=True, fs=fs, ps=ps, figsize=metrics_figsize)"
   ]
  },
  {
   "cell_type": "markdown",
   "metadata": {},
   "source": [
    "## Panel B: comparison across US frequencies"
   ]
  },
  {
   "cell_type": "code",
   "execution_count": null,
   "metadata": {},
   "outputs": [],
   "source": [
    "pneuron = getPointNeuron('RS')\n",
    "nbls = NeuronalBilayerSonophore(a, pneuron)\n",
    "freqs = np.array([20e3, 100e3, 500e3, 1e6, 2e6, 3e6, 4e6])  # Hz"
   ]
  },
  {
   "cell_type": "markdown",
   "metadata": {},
   "source": [
    "Comparison of $Q_m$ traces for supra-threshold CW stimuli at low and high US frequencies. **The rendering may take a few seconds...**"
   ]
  },
  {
   "cell_type": "code",
   "execution_count": null,
   "metadata": {},
   "outputs": [],
   "source": [
    "# Frequencies and corresponding supra-threshold amplitudes\n",
    "freqs_traces = [freqs.min(), freqs.max()]\n",
    "amps_traces = [suprathr(nbls.titrate(AcousticDrive(x), CW_pp)) for x in freqs_traces]  # Pa\n",
    "\n",
    "# Get outputs (using a generator expression to avoid overloading the memory)\n",
    "outputs = (\n",
    "    nbls.getOutput(AcousticDrive(x, y), CW_pp, cov, method, None, outputdir=subdir)\n",
    "    for x, y in zip(freqs_traces, amps_traces) for method in methods\n",
    ")\n",
    "\n",
    "# Plot\n",
    "figs['b_Qtraces'] = CompTimeSeries(outputs, 'Qm').render(\n",
    "    labels=altLabels([f'{si_format(f)}Hz' for f in freqs_traces]),\n",
    "    lines=['-', '--'] * len(freqs_traces),\n",
    "    colors=plt.get_cmap('Paired').colors[6:10],\n",
    "    fs=fs, patches='one', figsize=Qtrace_figsize,\n",
    "    inset={'xcoords': [5, 40], 'ycoords': [-35, 45], 'xlims': [57.5, 58.5], 'ylims': [10, 35]})"
   ]
  },
  {
   "cell_type": "markdown",
   "metadata": {},
   "source": [
    "Comparison of spiking metrics for CW stimuli for supra-threshold amplitudes at various frequencies. **The rendering may take a few seconds...**"
   ]
  },
  {
   "cell_type": "code",
   "execution_count": null,
   "metadata": {},
   "outputs": [],
   "source": [
    "# Frequencies and corresponding supra-threshold amplitudes\n",
    "suprathr_amps = [suprathr(nbls.titrate(AcousticDrive(x), CW_pp)) for x in freqs]  # Pa\n",
    "\n",
    "# Get outputs (using a generator expression to avoid overloading the memory)\n",
    "def gen(method):\n",
    "    return (nbls.getOutput(AcousticDrive(x, y), CW_pp, cov, method, None, outputdir=subdir)\n",
    "            for x, y in zip(freqs, suprathr_amps))\n",
    "outputs = {method: gen(method) for method in methods}\n",
    "\n",
    "# Compute spiking metrics on them\n",
    "metrics = {pneuron.name: {k: computeSpikingMetrics(v) for k, v in outputs.items()}}\n",
    "\n",
    "# Plot\n",
    "figs['b_spikemetrics'] = plotSpikingMetrics(\n",
    "    freqs * 1e-3, 'Frequency (kHz)', metrics,\n",
    "    logscale=True, fs=fs, ps=ps, figsize=metrics_figsize)"
   ]
  },
  {
   "cell_type": "markdown",
   "metadata": {},
   "source": [
    "## Panel C: comparison across sonophore radii"
   ]
  },
  {
   "cell_type": "code",
   "execution_count": null,
   "metadata": {},
   "outputs": [],
   "source": [
    "pneuron = getPointNeuron('RS')\n",
    "nbls = NeuronalBilayerSonophore(a, pneuron)\n",
    "radii = np.array([16, 22.6, 32, 45.3, 64]) * 1e-9  # m"
   ]
  },
  {
   "cell_type": "markdown",
   "metadata": {},
   "source": [
    "Comparison of $Q_m$ traces for supra-threshold CW stimuli with small and large sonophore radii. **The rendering may take a few seconds...**"
   ]
  },
  {
   "cell_type": "code",
   "execution_count": null,
   "metadata": {},
   "outputs": [],
   "source": [
    "# Radii and corresponding supra-threshold amplitudes\n",
    "radii_traces = [radii.min(), radii.max()]\n",
    "amps_traces = [suprathr(NeuronalBilayerSonophore(x, pneuron).titrate(AcousticDrive(Fdrive), CW_pp))\n",
    "               for x in radii_traces]  # Pa\n",
    "\n",
    "# Get outputs (using a generator expression to avoid overloading the memory)\n",
    "outputs = (\n",
    "    NeuronalBilayerSonophore(x, pneuron).getOutput(AcousticDrive(Fdrive, y), CW_pp, cov, method, None, outputdir=subdir)\n",
    "    for x, y in zip(radii_traces, amps_traces) for method in methods\n",
    ")\n",
    "\n",
    "# Plot\n",
    "colors = plt.get_cmap('Paired').colors\n",
    "colors = colors[2:4] + colors[10:12]\n",
    "figs['c_Qtraces'] = CompTimeSeries(outputs, 'Qm').render(\n",
    "    labels=altLabels([f'{x * 1e9:.0f} nm' for x in radii_traces]),\n",
    "    lines=['-', '--'] * len(radii_traces), colors=colors,\n",
    "    fs=fs, patches='one', figsize=Qtrace_figsize)"
   ]
  },
  {
   "cell_type": "markdown",
   "metadata": {},
   "source": [
    "Comparison of spiking metrics for CW stimuli for supra-threshold amplitudes for various sonophore radii. **The rendering may take a few seconds...**"
   ]
  },
  {
   "cell_type": "code",
   "execution_count": null,
   "metadata": {},
   "outputs": [],
   "source": [
    "# Radii and corresponding supra-threshold amplitudes\n",
    "suprathr_amps = [suprathr(NeuronalBilayerSonophore(x, pneuron).titrate(AcousticDrive(Fdrive), CW_pp))\n",
    "                 for x in radii]  # Pa\n",
    "\n",
    "# Get outputs (using a generator expression to avoid overloading the memory)\n",
    "def gen(method):\n",
    "    return (NeuronalBilayerSonophore(x, pneuron).getOutput(AcousticDrive(Fdrive, y), CW_pp, cov, method, None, outputdir=subdir)\n",
    "            for x, y in zip(radii, suprathr_amps))\n",
    "outputs = {method: gen(method) for method in methods}\n",
    "\n",
    "# Compute spiking metrics on them\n",
    "metrics = {pneuron.name: {k: computeSpikingMetrics(v) for k, v in outputs.items()}}\n",
    "\n",
    "# Plot\n",
    "figs['c_spikemetrics'] = plotSpikingMetrics(\n",
    "    radii * 1e9, 'Sonophore radius (nm)', metrics,\n",
    "    logscale=True, fs=fs, ps=ps, figsize=metrics_figsize)"
   ]
  },
  {
   "cell_type": "markdown",
   "metadata": {},
   "source": [
    "## Panel D: comparison across duty cycles"
   ]
  },
  {
   "cell_type": "code",
   "execution_count": null,
   "metadata": {},
   "outputs": [],
   "source": [
    "neurons = ['RS', 'LTS']\n",
    "pneurons = [getPointNeuron(x) for x in neurons]\n",
    "colors = list(plt.get_cmap('Paired').colors[:6])\n",
    "del colors[2:4]\n",
    "DCs = np.array([5, 10, 25, 50, 75, 100]) * 1e-2\n",
    "DC_short = DCs.min()"
   ]
  },
  {
   "cell_type": "markdown",
   "metadata": {},
   "source": [
    "Comparison of $Q_m$ traces at for RS and LTS neurons at 100 kPa, 5% duty cycle. **The rendering may take a few seconds...**"
   ]
  },
  {
   "cell_type": "code",
   "execution_count": null,
   "metadata": {},
   "outputs": [],
   "source": [
    "# Short duty-cycle protocol\n",
    "short_pp = PulsedProtocol(tstim, toffset, PRF, DC_short)\n",
    "\n",
    "# Get outputs (using a generator expression to avoid overloading the memory)\n",
    "outputs = (\n",
    "    NeuronalBilayerSonophore(a, x).getOutput(AcousticDrive(Fdrive, Adrive), short_pp, cov, method, None, outputdir=subdir)\n",
    "    for x in pneurons for method in methods\n",
    ")\n",
    "\n",
    "# Plot\n",
    "figs['d_Qtraces'] = CompTimeSeries(outputs, 'Qm').render(\n",
    "    labels=altLabels([f'{x.name}, {short_pp.DC * 1e2:.0f}% DC' for x in pneurons]),\n",
    "    lines=['-', '--'] * len(pneurons), colors=colors,\n",
    "    fs=fs, patches='one', figsize=Qtrace_figsize)"
   ]
  },
  {
   "cell_type": "markdown",
   "metadata": {},
   "source": [
    "Comparison of spiking metrics for PW stimuli at various duty cycles for RS and LTS neurons. **The rendering may take a few seconds...**"
   ]
  },
  {
   "cell_type": "code",
   "execution_count": null,
   "metadata": {},
   "outputs": [],
   "source": [
    "# Get outputs (using a generator expression to avoid overloading the memory)\n",
    "def gen(pneuron, method):\n",
    "    return (\n",
    "        NeuronalBilayerSonophore(a, pneuron).getOutput(\n",
    "            AcousticDrive(Fdrive, Adrive), PulsedProtocol(tstim, toffset, PRF, x), cov, method, None, outputdir=subdir)\n",
    "        for x in DCs)\n",
    "outputs = {\n",
    "    pneuron.name: {method: gen(pneuron, method) for method in methods}\n",
    "    for pneuron in pneurons\n",
    "}\n",
    "\n",
    "# Compute spiking metrics on them\n",
    "metrics = {\n",
    "    key: {k: computeSpikingMetrics(v) for k, v in value.items()}\n",
    "    for key, value in outputs.items()\n",
    "}\n",
    "\n",
    "# Plot\n",
    "colors_dict = {pneuron.name: {method: colors[2 * i + j] for j, method in enumerate(methods)}\n",
    "               for i, pneuron in enumerate(pneurons)}\n",
    "figs['d_spikemetrics'] = plotSpikingMetrics(\n",
    "    DCs * 1e2, 'Duty cycle (%)', metrics,\n",
    "    spikeamp=False, colors=colors_dict,\n",
    "    fs=fs, ps=ps, figsize=metrics_figsize)"
   ]
  },
  {
   "cell_type": "markdown",
   "metadata": {},
   "source": [
    "## Panel E: comparison across pulse repetition frequencies"
   ]
  },
  {
   "cell_type": "code",
   "execution_count": null,
   "metadata": {},
   "outputs": [],
   "source": [
    "pneuron = getPointNeuron('LTS')\n",
    "nbls = NeuronalBilayerSonophore(a, pneuron)"
   ]
  },
  {
   "cell_type": "markdown",
   "metadata": {},
   "source": [
    "Comparison of $Q_m$ traces for PW stimuli at 5% duty cycle with different pulse repetition frequencies. **The rendering may take a few seconds...**"
   ]
  },
  {
   "cell_type": "code",
   "execution_count": null,
   "metadata": {},
   "outputs": [],
   "source": [
    "# Pulse-repetition frequencies\n",
    "PRFs_traces = np.array([1e1, 1e2, 1e3, 1e4])  # Hz\n",
    "\n",
    "# Get outputs (using a generator expression to avoid overloading the memory)\n",
    "outputs = (\n",
    "    nbls.getOutput(AcousticDrive(Fdrive, Adrive), PulsedProtocol(tstim, toffset, x, DC_short), cov, method, None, outputdir=subdir)\n",
    "    for x in PRFs_traces for method in methods)\n",
    "\n",
    "# Plot\n",
    "patches = [False, True] * len(PRFs_traces)\n",
    "patches[-1] = False\n",
    "figs['e_Qtraces'] = CompTimeSeries(outputs, 'Qm').render(\n",
    "    labels=altLabels([f'{si_format(x)}Hz PRF' for x in PRFs_traces]),\n",
    "    lines=['-', '--'] * len(PRFs_traces),\n",
    "    colors=plt.get_cmap('Paired').colors[4:12],\n",
    "    fs=fs, patches=patches, figsize=Qtrace_figsize)"
   ]
  },
  {
   "cell_type": "markdown",
   "metadata": {},
   "source": [
    "Comparison of spiking metrics for PW stimuli at 5% duty cycle with different pulse repetition frequencies. **The rendering may take a few seconds...**"
   ]
  },
  {
   "cell_type": "code",
   "execution_count": null,
   "metadata": {},
   "outputs": [],
   "source": [
    "# Pulse-repetition frequencies\n",
    "PRFs_dense = sum([[x, 2 * x, 5 * x] for x in PRFs_traces[:-1]], []) + [PRFs_traces[-1]]  # Hz\n",
    "\n",
    "# Get outputs (using a generator expression to avoid overloading the memory)\n",
    "def gen(method):\n",
    "    return (nbls.getOutput(\n",
    "        AcousticDrive(Fdrive, Adrive), PulsedProtocol(tstim, toffset, x, DC_short), cov, method, None, outputdir=subdir)\n",
    "        for x in PRFs_dense)\n",
    "outputs = {method: gen(method) for method in methods}\n",
    "\n",
    "# Compute spiking metrics on them\n",
    "metrics = {pneuron.name: {k: computeSpikingMetrics(v) for k, v in outputs.items()}}\n",
    "\n",
    "# Plot\n",
    "figs['e_spikemetrics'] = plotSpikingMetrics(\n",
    "    PRFs_dense, 'PRF (Hz)', metrics,\n",
    "    spikeamp=False, logscale=True,\n",
    "    fs=fs, ps=ps, figsize=metrics_figsize)"
   ]
  },
  {
   "cell_type": "markdown",
   "metadata": {},
   "source": [
    "### Save figure panels\n",
    "\n",
    "Save figure panels as **pdf** in the *figs* sub-folder:"
   ]
  },
  {
   "cell_type": "code",
   "execution_count": null,
   "metadata": {},
   "outputs": [],
   "source": [
    "saveFigsAsPDF(figs, figindex)"
   ]
  }
 ],
 "metadata": {
  "kernelspec": {
   "display_name": "Python 3",
   "language": "python",
   "name": "python3"
  },
  "language_info": {
   "codemirror_mode": {
    "name": "ipython",
    "version": 3
   },
   "file_extension": ".py",
   "mimetype": "text/x-python",
   "name": "python",
   "nbconvert_exporter": "python",
   "pygments_lexer": "ipython3",
   "version": "3.7.3"
  }
 },
 "nbformat": 4,
 "nbformat_minor": 4
}
